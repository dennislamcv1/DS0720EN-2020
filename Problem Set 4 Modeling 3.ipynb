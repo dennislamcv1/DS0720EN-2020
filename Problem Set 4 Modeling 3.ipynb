{
 "cells": [
  {
   "cell_type": "markdown",
   "metadata": {},
   "source": [
    "## This is MultiClass Classification for Top 5 complaints"
   ]
  },
  {
   "cell_type": "code",
   "execution_count": 1,
   "metadata": {},
   "outputs": [],
   "source": [
    "import numpy as np\n",
    "import pandas as pd\n",
    "import matplotlib.pyplot as plt\n",
    "import seaborn as sns\n",
    "\n",
    "%matplotlib inline\n",
    "sns.set(font_scale=1.1)\n",
    "np.random.seed(5)\n",
    "\n",
    "pd.set_option(\"display.max_rows\",10000)\n",
    "pd.set_option(\"display.max_columns\",100)\n",
    "\n",
    "import pandas_profiling as pp\n",
    "import warnings\n",
    "warnings.filterwarnings('ignore')\n",
    "\n",
    "from sklearn.model_selection import train_test_split, cross_val_score, GridSearchCV\n",
    "from sklearn.preprocessing import StandardScaler\n",
    "\n",
    "from sklearn.neighbors import KNeighborsClassifier\n",
    "from sklearn.ensemble import RandomForestClassifier\n",
    "from sklearn.ensemble import GradientBoostingClassifier\n",
    "\n",
    "from sklearn.metrics import classification_report, confusion_matrix, plot_confusion_matrix, plot_roc_curve"
   ]
  },
  {
   "cell_type": "code",
   "execution_count": 2,
   "metadata": {},
   "outputs": [],
   "source": [
    "df = pd.read_csv(\"train3processed.csv\")"
   ]
  },
  {
   "cell_type": "code",
   "execution_count": 3,
   "metadata": {},
   "outputs": [
    {
     "data": {
      "text/html": [
       "<div>\n",
       "<style scoped>\n",
       "    .dataframe tbody tr th:only-of-type {\n",
       "        vertical-align: middle;\n",
       "    }\n",
       "\n",
       "    .dataframe tbody tr th {\n",
       "        vertical-align: top;\n",
       "    }\n",
       "\n",
       "    .dataframe thead th {\n",
       "        text-align: right;\n",
       "    }\n",
       "</style>\n",
       "<table border=\"1\" class=\"dataframe\">\n",
       "  <thead>\n",
       "    <tr style=\"text-align: right;\">\n",
       "      <th></th>\n",
       "      <th>lotarea</th>\n",
       "      <th>bldgarea</th>\n",
       "      <th>resarea</th>\n",
       "      <th>numbldgs</th>\n",
       "      <th>numfloors</th>\n",
       "      <th>lotdepth</th>\n",
       "      <th>bldgdepth</th>\n",
       "      <th>builtfar</th>\n",
       "      <th>residfar</th>\n",
       "      <th>year</th>\n",
       "      <th>status</th>\n",
       "      <th>complaint</th>\n",
       "    </tr>\n",
       "  </thead>\n",
       "  <tbody>\n",
       "    <tr>\n",
       "      <th>0</th>\n",
       "      <td>0.000032</td>\n",
       "      <td>0.000168</td>\n",
       "      <td>0.000173</td>\n",
       "      <td>0.003984</td>\n",
       "      <td>0.032258</td>\n",
       "      <td>0.025000</td>\n",
       "      <td>0.040000</td>\n",
       "      <td>0.027553</td>\n",
       "      <td>0.125</td>\n",
       "      <td>0.229008</td>\n",
       "      <td>1.0</td>\n",
       "      <td>0.0</td>\n",
       "    </tr>\n",
       "    <tr>\n",
       "      <th>1</th>\n",
       "      <td>0.000025</td>\n",
       "      <td>0.000109</td>\n",
       "      <td>0.000082</td>\n",
       "      <td>0.003984</td>\n",
       "      <td>0.032258</td>\n",
       "      <td>0.027355</td>\n",
       "      <td>0.024615</td>\n",
       "      <td>0.022462</td>\n",
       "      <td>0.075</td>\n",
       "      <td>0.248092</td>\n",
       "      <td>1.0</td>\n",
       "      <td>0.0</td>\n",
       "    </tr>\n",
       "    <tr>\n",
       "      <th>2</th>\n",
       "      <td>0.000032</td>\n",
       "      <td>0.000290</td>\n",
       "      <td>0.000196</td>\n",
       "      <td>0.003984</td>\n",
       "      <td>0.048387</td>\n",
       "      <td>0.025000</td>\n",
       "      <td>0.046154</td>\n",
       "      <td>0.047020</td>\n",
       "      <td>0.300</td>\n",
       "      <td>0.312977</td>\n",
       "      <td>1.0</td>\n",
       "      <td>0.0</td>\n",
       "    </tr>\n",
       "    <tr>\n",
       "      <th>3</th>\n",
       "      <td>0.000022</td>\n",
       "      <td>0.000125</td>\n",
       "      <td>0.000090</td>\n",
       "      <td>0.003984</td>\n",
       "      <td>0.032258</td>\n",
       "      <td>0.025000</td>\n",
       "      <td>0.025385</td>\n",
       "      <td>0.028452</td>\n",
       "      <td>0.075</td>\n",
       "      <td>0.240458</td>\n",
       "      <td>1.0</td>\n",
       "      <td>0.0</td>\n",
       "    </tr>\n",
       "    <tr>\n",
       "      <th>4</th>\n",
       "      <td>0.000039</td>\n",
       "      <td>0.000107</td>\n",
       "      <td>0.000111</td>\n",
       "      <td>0.003984</td>\n",
       "      <td>0.040323</td>\n",
       "      <td>0.023395</td>\n",
       "      <td>0.033077</td>\n",
       "      <td>0.014376</td>\n",
       "      <td>0.075</td>\n",
       "      <td>0.343511</td>\n",
       "      <td>1.0</td>\n",
       "      <td>0.0</td>\n",
       "    </tr>\n",
       "  </tbody>\n",
       "</table>\n",
       "</div>"
      ],
      "text/plain": [
       "    lotarea  bldgarea   resarea  numbldgs  numfloors  lotdepth  bldgdepth  \\\n",
       "0  0.000032  0.000168  0.000173  0.003984   0.032258  0.025000   0.040000   \n",
       "1  0.000025  0.000109  0.000082  0.003984   0.032258  0.027355   0.024615   \n",
       "2  0.000032  0.000290  0.000196  0.003984   0.048387  0.025000   0.046154   \n",
       "3  0.000022  0.000125  0.000090  0.003984   0.032258  0.025000   0.025385   \n",
       "4  0.000039  0.000107  0.000111  0.003984   0.040323  0.023395   0.033077   \n",
       "\n",
       "   builtfar  residfar      year  status  complaint  \n",
       "0  0.027553     0.125  0.229008     1.0        0.0  \n",
       "1  0.022462     0.075  0.248092     1.0        0.0  \n",
       "2  0.047020     0.300  0.312977     1.0        0.0  \n",
       "3  0.028452     0.075  0.240458     1.0        0.0  \n",
       "4  0.014376     0.075  0.343511     1.0        0.0  "
      ]
     },
     "execution_count": 3,
     "metadata": {},
     "output_type": "execute_result"
    }
   ],
   "source": [
    "df.head()"
   ]
  },
  {
   "cell_type": "code",
   "execution_count": 4,
   "metadata": {},
   "outputs": [
    {
     "data": {
      "text/plain": [
       "0.0    32061\n",
       "3.0     4453\n",
       "2.0     2751\n",
       "1.0     2062\n",
       "4.0     1984\n",
       "Name: complaint, dtype: int64"
      ]
     },
     "execution_count": 4,
     "metadata": {},
     "output_type": "execute_result"
    }
   ],
   "source": [
    "df['complaint'].value_counts()"
   ]
  },
  {
   "cell_type": "code",
   "execution_count": 5,
   "metadata": {},
   "outputs": [
    {
     "data": {
      "text/plain": [
       "lotarea      16\n",
       "bldgarea     16\n",
       "resarea      16\n",
       "numbldgs     16\n",
       "numfloors    16\n",
       "lotdepth     16\n",
       "bldgdepth    16\n",
       "builtfar     16\n",
       "residfar     16\n",
       "year         16\n",
       "status       16\n",
       "complaint    16\n",
       "dtype: int64"
      ]
     },
     "execution_count": 5,
     "metadata": {},
     "output_type": "execute_result"
    }
   ],
   "source": [
    "df.isnull().sum()"
   ]
  },
  {
   "cell_type": "code",
   "execution_count": 6,
   "metadata": {},
   "outputs": [],
   "source": [
    "df.dropna(inplace=True)"
   ]
  },
  {
   "cell_type": "code",
   "execution_count": 7,
   "metadata": {},
   "outputs": [
    {
     "data": {
      "text/plain": [
       "lotarea      0\n",
       "bldgarea     0\n",
       "resarea      0\n",
       "numbldgs     0\n",
       "numfloors    0\n",
       "lotdepth     0\n",
       "bldgdepth    0\n",
       "builtfar     0\n",
       "residfar     0\n",
       "year         0\n",
       "status       0\n",
       "complaint    0\n",
       "dtype: int64"
      ]
     },
     "execution_count": 7,
     "metadata": {},
     "output_type": "execute_result"
    }
   ],
   "source": [
    "df.isnull().sum()"
   ]
  },
  {
   "cell_type": "markdown",
   "metadata": {},
   "source": [
    "### Split data for training"
   ]
  },
  {
   "cell_type": "code",
   "execution_count": 8,
   "metadata": {},
   "outputs": [],
   "source": [
    "X = df.iloc[:,0:11]\n",
    "y = df.iloc[:,11]"
   ]
  },
  {
   "cell_type": "code",
   "execution_count": 9,
   "metadata": {},
   "outputs": [
    {
     "data": {
      "text/plain": [
       "((43295, 11), (43295,))"
      ]
     },
     "execution_count": 9,
     "metadata": {},
     "output_type": "execute_result"
    }
   ],
   "source": [
    "X.shape, y.shape"
   ]
  },
  {
   "cell_type": "code",
   "execution_count": 10,
   "metadata": {},
   "outputs": [
    {
     "data": {
      "text/html": [
       "<div>\n",
       "<style scoped>\n",
       "    .dataframe tbody tr th:only-of-type {\n",
       "        vertical-align: middle;\n",
       "    }\n",
       "\n",
       "    .dataframe tbody tr th {\n",
       "        vertical-align: top;\n",
       "    }\n",
       "\n",
       "    .dataframe thead th {\n",
       "        text-align: right;\n",
       "    }\n",
       "</style>\n",
       "<table border=\"1\" class=\"dataframe\">\n",
       "  <thead>\n",
       "    <tr style=\"text-align: right;\">\n",
       "      <th></th>\n",
       "      <th>lotarea</th>\n",
       "      <th>bldgarea</th>\n",
       "      <th>resarea</th>\n",
       "      <th>numbldgs</th>\n",
       "      <th>numfloors</th>\n",
       "      <th>lotdepth</th>\n",
       "      <th>bldgdepth</th>\n",
       "      <th>builtfar</th>\n",
       "      <th>residfar</th>\n",
       "      <th>year</th>\n",
       "      <th>status</th>\n",
       "    </tr>\n",
       "  </thead>\n",
       "  <tbody>\n",
       "    <tr>\n",
       "      <th>0</th>\n",
       "      <td>0.000032</td>\n",
       "      <td>0.000168</td>\n",
       "      <td>0.000173</td>\n",
       "      <td>0.003984</td>\n",
       "      <td>0.032258</td>\n",
       "      <td>0.025000</td>\n",
       "      <td>0.040000</td>\n",
       "      <td>0.027553</td>\n",
       "      <td>0.125</td>\n",
       "      <td>0.229008</td>\n",
       "      <td>1.0</td>\n",
       "    </tr>\n",
       "    <tr>\n",
       "      <th>1</th>\n",
       "      <td>0.000025</td>\n",
       "      <td>0.000109</td>\n",
       "      <td>0.000082</td>\n",
       "      <td>0.003984</td>\n",
       "      <td>0.032258</td>\n",
       "      <td>0.027355</td>\n",
       "      <td>0.024615</td>\n",
       "      <td>0.022462</td>\n",
       "      <td>0.075</td>\n",
       "      <td>0.248092</td>\n",
       "      <td>1.0</td>\n",
       "    </tr>\n",
       "    <tr>\n",
       "      <th>2</th>\n",
       "      <td>0.000032</td>\n",
       "      <td>0.000290</td>\n",
       "      <td>0.000196</td>\n",
       "      <td>0.003984</td>\n",
       "      <td>0.048387</td>\n",
       "      <td>0.025000</td>\n",
       "      <td>0.046154</td>\n",
       "      <td>0.047020</td>\n",
       "      <td>0.300</td>\n",
       "      <td>0.312977</td>\n",
       "      <td>1.0</td>\n",
       "    </tr>\n",
       "    <tr>\n",
       "      <th>3</th>\n",
       "      <td>0.000022</td>\n",
       "      <td>0.000125</td>\n",
       "      <td>0.000090</td>\n",
       "      <td>0.003984</td>\n",
       "      <td>0.032258</td>\n",
       "      <td>0.025000</td>\n",
       "      <td>0.025385</td>\n",
       "      <td>0.028452</td>\n",
       "      <td>0.075</td>\n",
       "      <td>0.240458</td>\n",
       "      <td>1.0</td>\n",
       "    </tr>\n",
       "    <tr>\n",
       "      <th>4</th>\n",
       "      <td>0.000039</td>\n",
       "      <td>0.000107</td>\n",
       "      <td>0.000111</td>\n",
       "      <td>0.003984</td>\n",
       "      <td>0.040323</td>\n",
       "      <td>0.023395</td>\n",
       "      <td>0.033077</td>\n",
       "      <td>0.014376</td>\n",
       "      <td>0.075</td>\n",
       "      <td>0.343511</td>\n",
       "      <td>1.0</td>\n",
       "    </tr>\n",
       "  </tbody>\n",
       "</table>\n",
       "</div>"
      ],
      "text/plain": [
       "    lotarea  bldgarea   resarea  numbldgs  numfloors  lotdepth  bldgdepth  \\\n",
       "0  0.000032  0.000168  0.000173  0.003984   0.032258  0.025000   0.040000   \n",
       "1  0.000025  0.000109  0.000082  0.003984   0.032258  0.027355   0.024615   \n",
       "2  0.000032  0.000290  0.000196  0.003984   0.048387  0.025000   0.046154   \n",
       "3  0.000022  0.000125  0.000090  0.003984   0.032258  0.025000   0.025385   \n",
       "4  0.000039  0.000107  0.000111  0.003984   0.040323  0.023395   0.033077   \n",
       "\n",
       "   builtfar  residfar      year  status  \n",
       "0  0.027553     0.125  0.229008     1.0  \n",
       "1  0.022462     0.075  0.248092     1.0  \n",
       "2  0.047020     0.300  0.312977     1.0  \n",
       "3  0.028452     0.075  0.240458     1.0  \n",
       "4  0.014376     0.075  0.343511     1.0  "
      ]
     },
     "execution_count": 10,
     "metadata": {},
     "output_type": "execute_result"
    }
   ],
   "source": [
    "X.head()"
   ]
  },
  {
   "cell_type": "code",
   "execution_count": 11,
   "metadata": {},
   "outputs": [
    {
     "data": {
      "text/plain": [
       "0    0.0\n",
       "1    0.0\n",
       "2    0.0\n",
       "3    0.0\n",
       "4    0.0\n",
       "Name: complaint, dtype: float64"
      ]
     },
     "execution_count": 11,
     "metadata": {},
     "output_type": "execute_result"
    }
   ],
   "source": [
    "y.head()"
   ]
  },
  {
   "cell_type": "code",
   "execution_count": 12,
   "metadata": {},
   "outputs": [
    {
     "data": {
      "text/plain": [
       "(array([[3.19192478e-05, 1.68314808e-04, 1.73183792e-04, ...,\n",
       "         1.25000000e-01, 2.29007634e-01, 1.00000000e+00],\n",
       "        [2.47811882e-05, 1.09009502e-04, 8.17475940e-05, ...,\n",
       "         7.50000000e-02, 2.48091603e-01, 1.00000000e+00],\n",
       "        [3.19192478e-05, 2.89805750e-04, 1.96496994e-04, ...,\n",
       "         3.00000000e-01, 3.12977099e-01, 1.00000000e+00],\n",
       "        ...,\n",
       "        [1.83569345e-05, 1.20013849e-04, 1.23681082e-04, ...,\n",
       "         3.44000000e-01, 3.81679389e-01, 1.00000000e+00],\n",
       "        [2.90505559e-05, 2.71859064e-04, 2.79304280e-04, ...,\n",
       "         1.10000000e-01, 4.19847328e-02, 0.00000000e+00],\n",
       "        [2.05926286e-05, 1.36409587e-04, 7.80386754e-05, ...,\n",
       "         7.50000000e-02, 2.67175573e-01, 0.00000000e+00]]),\n",
       " array([0., 0., 0., ..., 0., 0., 0.]))"
      ]
     },
     "execution_count": 12,
     "metadata": {},
     "output_type": "execute_result"
    }
   ],
   "source": [
    "X.values, y.values"
   ]
  },
  {
   "cell_type": "code",
   "execution_count": 13,
   "metadata": {},
   "outputs": [],
   "source": [
    "X_train, X_test, y_train, y_test = train_test_split(X, y, test_size=0.2)"
   ]
  },
  {
   "cell_type": "code",
   "execution_count": 14,
   "metadata": {},
   "outputs": [
    {
     "data": {
      "text/plain": [
       "((34636, 11), (8659, 11))"
      ]
     },
     "execution_count": 14,
     "metadata": {},
     "output_type": "execute_result"
    }
   ],
   "source": [
    "X_train.shape, X_test.shape"
   ]
  },
  {
   "cell_type": "markdown",
   "metadata": {},
   "source": [
    "### Model 1: KNN Classifier"
   ]
  },
  {
   "cell_type": "code",
   "execution_count": 15,
   "metadata": {},
   "outputs": [],
   "source": [
    "neigh = KNeighborsClassifier()"
   ]
  },
  {
   "cell_type": "code",
   "execution_count": 16,
   "metadata": {},
   "outputs": [
    {
     "data": {
      "text/plain": [
       "KNeighborsClassifier(algorithm='auto', leaf_size=30, metric='minkowski',\n",
       "                     metric_params=None, n_jobs=None, n_neighbors=5, p=2,\n",
       "                     weights='uniform')"
      ]
     },
     "execution_count": 16,
     "metadata": {},
     "output_type": "execute_result"
    }
   ],
   "source": [
    "neigh.fit(X_train,y_train)"
   ]
  },
  {
   "cell_type": "code",
   "execution_count": 17,
   "metadata": {},
   "outputs": [],
   "source": [
    "ypred = neigh.predict(X_test)"
   ]
  },
  {
   "cell_type": "code",
   "execution_count": 18,
   "metadata": {},
   "outputs": [
    {
     "data": {
      "text/plain": [
       "array([0., 0., 0., ..., 0., 0., 0.])"
      ]
     },
     "execution_count": 18,
     "metadata": {},
     "output_type": "execute_result"
    }
   ],
   "source": [
    "ypred"
   ]
  },
  {
   "cell_type": "code",
   "execution_count": 19,
   "metadata": {},
   "outputs": [
    {
     "name": "stdout",
     "output_type": "stream",
     "text": [
      "              precision    recall  f1-score   support\n",
      "\n",
      "         0.0       0.76      0.97      0.86      6386\n",
      "         1.0       0.14      0.03      0.05       413\n",
      "         2.0       0.19      0.05      0.08       569\n",
      "         3.0       0.25      0.07      0.11       910\n",
      "         4.0       0.13      0.02      0.03       381\n",
      "\n",
      "    accuracy                           0.73      8659\n",
      "   macro avg       0.30      0.23      0.22      8659\n",
      "weighted avg       0.62      0.73      0.65      8659\n",
      "\n"
     ]
    }
   ],
   "source": [
    "print(classification_report(y_test,ypred))"
   ]
  },
  {
   "cell_type": "code",
   "execution_count": 20,
   "metadata": {},
   "outputs": [
    {
     "data": {
      "text/plain": [
       "array([[6213,   29,   46,   80,   18],\n",
       "       [ 357,   12,   14,   26,    4],\n",
       "       [ 473,   18,   28,   44,    6],\n",
       "       [ 774,   17,   40,   62,   17],\n",
       "       [ 305,    9,   23,   37,    7]], dtype=int64)"
      ]
     },
     "execution_count": 20,
     "metadata": {},
     "output_type": "execute_result"
    }
   ],
   "source": [
    "cm1 = confusion_matrix(y_test,ypred)\n",
    "cm1"
   ]
  },
  {
   "cell_type": "code",
   "execution_count": 21,
   "metadata": {},
   "outputs": [
    {
     "data": {
      "image/png": "[encoded data removed]",
      "text/plain": [
       "<Figure size 576x396 with 2 Axes>"
      ]
     },
     "metadata": {},
     "output_type": "display_data"
    }
   ],
   "source": [
    "plot_confusion_matrix(neigh,X_test,y_test,values_format='.4g',cmap=\"Blues_r\")\n",
    "plt.show()"
   ]
  },
  {
   "cell_type": "code",
   "execution_count": 22,
   "metadata": {},
   "outputs": [
    {
     "data": {
      "image/png": "[encoded data removed]",
      "text/plain": [
       "<Figure size 720x720 with 2 Axes>"
      ]
     },
     "metadata": {},
     "output_type": "display_data"
    }
   ],
   "source": [
    "plt.figure(figsize=(10,10))\n",
    "sns.heatmap(data=cm1, annot=True,cmap=\"coolwarm\",fmt='.4g',linewidths=2)\n",
    "plt.xlabel(\"Predicted Label\")\n",
    "plt.ylabel(\"True Label\")\n",
    "plt.show()"
   ]
  },
  {
   "cell_type": "markdown",
   "metadata": {},
   "source": [
    "### Use Random Forest"
   ]
  },
  {
   "cell_type": "code",
   "execution_count": 23,
   "metadata": {},
   "outputs": [],
   "source": [
    "rf = RandomForestClassifier()"
   ]
  },
  {
   "cell_type": "code",
   "execution_count": 24,
   "metadata": {},
   "outputs": [
    {
     "data": {
      "text/plain": [
       "RandomForestClassifier(bootstrap=True, ccp_alpha=0.0, class_weight=None,\n",
       "                       criterion='gini', max_depth=None, max_features='auto',\n",
       "                       max_leaf_nodes=None, max_samples=None,\n",
       "                       min_impurity_decrease=0.0, min_impurity_split=None,\n",
       "                       min_samples_leaf=1, min_samples_split=2,\n",
       "                       min_weight_fraction_leaf=0.0, n_estimators=100,\n",
       "                       n_jobs=None, oob_score=False, random_state=None,\n",
       "                       verbose=0, warm_start=False)"
      ]
     },
     "execution_count": 24,
     "metadata": {},
     "output_type": "execute_result"
    }
   ],
   "source": [
    "rf.fit(X_train,y_train)"
   ]
  },
  {
   "cell_type": "code",
   "execution_count": 25,
   "metadata": {},
   "outputs": [],
   "source": [
    "ypred = rf.predict(X_test)"
   ]
  },
  {
   "cell_type": "code",
   "execution_count": 26,
   "metadata": {},
   "outputs": [
    {
     "data": {
      "text/plain": [
       "array([0., 0., 0., ..., 0., 0., 0.])"
      ]
     },
     "execution_count": 26,
     "metadata": {},
     "output_type": "execute_result"
    }
   ],
   "source": [
    "ypred"
   ]
  },
  {
   "cell_type": "code",
   "execution_count": 27,
   "metadata": {},
   "outputs": [
    {
     "name": "stdout",
     "output_type": "stream",
     "text": [
      "              precision    recall  f1-score   support\n",
      "\n",
      "         0.0       0.77      0.97      0.86      6386\n",
      "         1.0       0.12      0.01      0.03       413\n",
      "         2.0       0.20      0.04      0.07       569\n",
      "         3.0       0.27      0.10      0.15       910\n",
      "         4.0       0.15      0.03      0.05       381\n",
      "\n",
      "    accuracy                           0.73      8659\n",
      "   macro avg       0.30      0.23      0.23      8659\n",
      "weighted avg       0.62      0.73      0.66      8659\n",
      "\n"
     ]
    }
   ],
   "source": [
    "print(classification_report(y_test,ypred))"
   ]
  },
  {
   "cell_type": "code",
   "execution_count": 28,
   "metadata": {},
   "outputs": [
    {
     "data": {
      "text/plain": [
       "array([[6200,   19,   44,   94,   29],\n",
       "       [ 352,    6,    9,   43,    3],\n",
       "       [ 460,    5,   25,   69,   10],\n",
       "       [ 753,   14,   30,   95,   18],\n",
       "       [ 298,    7,   18,   47,   11]], dtype=int64)"
      ]
     },
     "execution_count": 28,
     "metadata": {},
     "output_type": "execute_result"
    }
   ],
   "source": [
    "cm2 = confusion_matrix(y_test,ypred)\n",
    "cm2"
   ]
  },
  {
   "cell_type": "code",
   "execution_count": 29,
   "metadata": {},
   "outputs": [
    {
     "data": {
      "image/png": "[encoded data removed]",
      "text/plain": [
       "<Figure size 576x396 with 2 Axes>"
      ]
     },
     "metadata": {},
     "output_type": "display_data"
    }
   ],
   "source": [
    "plot_confusion_matrix(rf,X_test,y_test,values_format='.4g',cmap=\"Blues_r\")\n",
    "plt.show()"
   ]
  },
  {
   "cell_type": "code",
   "execution_count": 30,
   "metadata": {},
   "outputs": [
    {
     "data": {
      "image/png": "[encoded data removed]",
      "text/plain": [
       "<Figure size 720x720 with 2 Axes>"
      ]
     },
     "metadata": {},
     "output_type": "display_data"
    }
   ],
   "source": [
    "plt.figure(figsize=(10,10))\n",
    "sns.heatmap(data=cm2, annot=True,cmap=\"coolwarm\",fmt='.4g',linewidths=2)\n",
    "plt.xlabel(\"Predicted Label\")\n",
    "plt.ylabel(\"True Label\")\n",
    "plt.show()"
   ]
  },
  {
   "cell_type": "markdown",
   "metadata": {},
   "source": [
    "### Use Gradient Boosting"
   ]
  },
  {
   "cell_type": "code",
   "execution_count": 31,
   "metadata": {},
   "outputs": [],
   "source": [
    "gb = GradientBoostingClassifier()"
   ]
  },
  {
   "cell_type": "code",
   "execution_count": 32,
   "metadata": {},
   "outputs": [
    {
     "data": {
      "text/plain": [
       "GradientBoostingClassifier(ccp_alpha=0.0, criterion='friedman_mse', init=None,\n",
       "                           learning_rate=0.1, loss='deviance', max_depth=3,\n",
       "                           max_features=None, max_leaf_nodes=None,\n",
       "                           min_impurity_decrease=0.0, min_impurity_split=None,\n",
       "                           min_samples_leaf=1, min_samples_split=2,\n",
       "                           min_weight_fraction_leaf=0.0, n_estimators=100,\n",
       "                           n_iter_no_change=None, presort='deprecated',\n",
       "                           random_state=None, subsample=1.0, tol=0.0001,\n",
       "                           validation_fraction=0.1, verbose=0,\n",
       "                           warm_start=False)"
      ]
     },
     "execution_count": 32,
     "metadata": {},
     "output_type": "execute_result"
    }
   ],
   "source": [
    "gb.fit(X_train,y_train)"
   ]
  },
  {
   "cell_type": "code",
   "execution_count": 33,
   "metadata": {},
   "outputs": [],
   "source": [
    "ypred = gb.predict(X_test)"
   ]
  },
  {
   "cell_type": "code",
   "execution_count": 34,
   "metadata": {},
   "outputs": [
    {
     "data": {
      "text/plain": [
       "array([0., 0., 0., ..., 0., 0., 0.])"
      ]
     },
     "execution_count": 34,
     "metadata": {},
     "output_type": "execute_result"
    }
   ],
   "source": [
    "ypred"
   ]
  },
  {
   "cell_type": "code",
   "execution_count": 35,
   "metadata": {},
   "outputs": [
    {
     "name": "stdout",
     "output_type": "stream",
     "text": [
      "              precision    recall  f1-score   support\n",
      "\n",
      "         0.0       0.77      0.99      0.87      6386\n",
      "         1.0       0.00      0.00      0.00       413\n",
      "         2.0       0.30      0.01      0.01       569\n",
      "         3.0       0.32      0.14      0.20       910\n",
      "         4.0       0.08      0.00      0.01       381\n",
      "\n",
      "    accuracy                           0.75      8659\n",
      "   macro avg       0.29      0.23      0.22      8659\n",
      "weighted avg       0.62      0.75      0.66      8659\n",
      "\n"
     ]
    }
   ],
   "source": [
    "print(classification_report(y_test,ypred))"
   ]
  },
  {
   "cell_type": "code",
   "execution_count": 37,
   "metadata": {},
   "outputs": [
    {
     "data": {
      "text/plain": [
       "array([[6326,    1,    2,   55,    2],\n",
       "       [ 354,    0,    2,   57,    0],\n",
       "       [ 474,    0,    3,   89,    3],\n",
       "       [ 769,    5,    1,  129,    6],\n",
       "       [ 306,    0,    2,   72,    1]], dtype=int64)"
      ]
     },
     "execution_count": 37,
     "metadata": {},
     "output_type": "execute_result"
    }
   ],
   "source": [
    "cm3 = confusion_matrix(y_test,ypred)\n",
    "cm3"
   ]
  },
  {
   "cell_type": "code",
   "execution_count": 38,
   "metadata": {},
   "outputs": [
    {
     "data": {
      "image/png": "[encoded data removed]",
      "text/plain": [
       "<Figure size 576x396 with 2 Axes>"
      ]
     },
     "metadata": {},
     "output_type": "display_data"
    }
   ],
   "source": [
    "plot_confusion_matrix(gb,X_test,y_test,values_format='.4g',cmap=\"Blues_r\")\n",
    "plt.show()"
   ]
  },
  {
   "cell_type": "code",
   "execution_count": 39,
   "metadata": {},
   "outputs": [
    {
     "data": {
      "image/png": "[encoded data removed]",
      "text/plain": [
       "<Figure size 720x720 with 2 Axes>"
      ]
     },
     "metadata": {},
     "output_type": "display_data"
    }
   ],
   "source": [
    "plt.figure(figsize=(10,10))\n",
    "sns.heatmap(data=cm3, annot=True,cmap=\"coolwarm\",fmt='.4g',linewidths=2)\n",
    "plt.xlabel(\"Predicted Label\")\n",
    "plt.ylabel(\"True Label\")\n",
    "plt.show()"
   ]
  },
  {
   "cell_type": "markdown",
   "metadata": {},
   "source": [
    "**Use Gradient Boosting as it can detect more Heat/Hot water issues**"
   ]
  },
  {
   "cell_type": "markdown",
   "metadata": {},
   "source": [
    "### Perform cross-validation"
   ]
  },
  {
   "cell_type": "code",
   "execution_count": 40,
   "metadata": {},
   "outputs": [],
   "source": [
    "gbcv = cross_val_score(gb,X,y,scoring='f1_weighted',cv=5)"
   ]
  },
  {
   "cell_type": "code",
   "execution_count": 41,
   "metadata": {},
   "outputs": [
    {
     "data": {
      "text/plain": [
       "array([0.67719876, 0.63514876, 0.63657415, 0.69069864, 0.66260062])"
      ]
     },
     "execution_count": 41,
     "metadata": {},
     "output_type": "execute_result"
    }
   ],
   "source": [
    "gbcv"
   ]
  },
  {
   "cell_type": "code",
   "execution_count": 42,
   "metadata": {},
   "outputs": [
    {
     "data": {
      "text/plain": [
       "0.6604441868157191"
      ]
     },
     "execution_count": 42,
     "metadata": {},
     "output_type": "execute_result"
    }
   ],
   "source": [
    "gbcv.mean()"
   ]
  },
  {
   "cell_type": "markdown",
   "metadata": {},
   "source": [
    "### Find Feature Importances"
   ]
  },
  {
   "cell_type": "code",
   "execution_count": 43,
   "metadata": {},
   "outputs": [
    {
     "data": {
      "text/plain": [
       "array([0.04070262, 0.06638199, 0.0211925 , 0.00719362, 0.00725313,\n",
       "       0.05934647, 0.03500974, 0.02913936, 0.01613503, 0.03209327,\n",
       "       0.68555227])"
      ]
     },
     "execution_count": 43,
     "metadata": {},
     "output_type": "execute_result"
    }
   ],
   "source": [
    "features = gb.feature_importances_\n",
    "features"
   ]
  },
  {
   "cell_type": "code",
   "execution_count": 44,
   "metadata": {},
   "outputs": [],
   "source": [
    "featuresdf = pd.DataFrame(features, columns=[\"Score\"])"
   ]
  },
  {
   "cell_type": "code",
   "execution_count": 45,
   "metadata": {},
   "outputs": [
    {
     "data": {
      "text/html": [
       "<div>\n",
       "<style scoped>\n",
       "    .dataframe tbody tr th:only-of-type {\n",
       "        vertical-align: middle;\n",
       "    }\n",
       "\n",
       "    .dataframe tbody tr th {\n",
       "        vertical-align: top;\n",
       "    }\n",
       "\n",
       "    .dataframe thead th {\n",
       "        text-align: right;\n",
       "    }\n",
       "</style>\n",
       "<table border=\"1\" class=\"dataframe\">\n",
       "  <thead>\n",
       "    <tr style=\"text-align: right;\">\n",
       "      <th></th>\n",
       "      <th>Score</th>\n",
       "    </tr>\n",
       "  </thead>\n",
       "  <tbody>\n",
       "    <tr>\n",
       "      <th>0</th>\n",
       "      <td>0.040703</td>\n",
       "    </tr>\n",
       "    <tr>\n",
       "      <th>1</th>\n",
       "      <td>0.066382</td>\n",
       "    </tr>\n",
       "    <tr>\n",
       "      <th>2</th>\n",
       "      <td>0.021193</td>\n",
       "    </tr>\n",
       "    <tr>\n",
       "      <th>3</th>\n",
       "      <td>0.007194</td>\n",
       "    </tr>\n",
       "    <tr>\n",
       "      <th>4</th>\n",
       "      <td>0.007253</td>\n",
       "    </tr>\n",
       "    <tr>\n",
       "      <th>5</th>\n",
       "      <td>0.059346</td>\n",
       "    </tr>\n",
       "    <tr>\n",
       "      <th>6</th>\n",
       "      <td>0.035010</td>\n",
       "    </tr>\n",
       "    <tr>\n",
       "      <th>7</th>\n",
       "      <td>0.029139</td>\n",
       "    </tr>\n",
       "    <tr>\n",
       "      <th>8</th>\n",
       "      <td>0.016135</td>\n",
       "    </tr>\n",
       "    <tr>\n",
       "      <th>9</th>\n",
       "      <td>0.032093</td>\n",
       "    </tr>\n",
       "    <tr>\n",
       "      <th>10</th>\n",
       "      <td>0.685552</td>\n",
       "    </tr>\n",
       "  </tbody>\n",
       "</table>\n",
       "</div>"
      ],
      "text/plain": [
       "       Score\n",
       "0   0.040703\n",
       "1   0.066382\n",
       "2   0.021193\n",
       "3   0.007194\n",
       "4   0.007253\n",
       "5   0.059346\n",
       "6   0.035010\n",
       "7   0.029139\n",
       "8   0.016135\n",
       "9   0.032093\n",
       "10  0.685552"
      ]
     },
     "execution_count": 45,
     "metadata": {},
     "output_type": "execute_result"
    }
   ],
   "source": [
    "featuresdf"
   ]
  },
  {
   "cell_type": "code",
   "execution_count": 46,
   "metadata": {},
   "outputs": [],
   "source": [
    "Xcols = pd.DataFrame(X.columns,columns=['Feature Names'])"
   ]
  },
  {
   "cell_type": "code",
   "execution_count": 47,
   "metadata": {},
   "outputs": [
    {
     "data": {
      "text/html": [
       "<div>\n",
       "<style scoped>\n",
       "    .dataframe tbody tr th:only-of-type {\n",
       "        vertical-align: middle;\n",
       "    }\n",
       "\n",
       "    .dataframe tbody tr th {\n",
       "        vertical-align: top;\n",
       "    }\n",
       "\n",
       "    .dataframe thead th {\n",
       "        text-align: right;\n",
       "    }\n",
       "</style>\n",
       "<table border=\"1\" class=\"dataframe\">\n",
       "  <thead>\n",
       "    <tr style=\"text-align: right;\">\n",
       "      <th></th>\n",
       "      <th>Feature Names</th>\n",
       "    </tr>\n",
       "  </thead>\n",
       "  <tbody>\n",
       "    <tr>\n",
       "      <th>0</th>\n",
       "      <td>lotarea</td>\n",
       "    </tr>\n",
       "    <tr>\n",
       "      <th>1</th>\n",
       "      <td>bldgarea</td>\n",
       "    </tr>\n",
       "    <tr>\n",
       "      <th>2</th>\n",
       "      <td>resarea</td>\n",
       "    </tr>\n",
       "    <tr>\n",
       "      <th>3</th>\n",
       "      <td>numbldgs</td>\n",
       "    </tr>\n",
       "    <tr>\n",
       "      <th>4</th>\n",
       "      <td>numfloors</td>\n",
       "    </tr>\n",
       "    <tr>\n",
       "      <th>5</th>\n",
       "      <td>lotdepth</td>\n",
       "    </tr>\n",
       "    <tr>\n",
       "      <th>6</th>\n",
       "      <td>bldgdepth</td>\n",
       "    </tr>\n",
       "    <tr>\n",
       "      <th>7</th>\n",
       "      <td>builtfar</td>\n",
       "    </tr>\n",
       "    <tr>\n",
       "      <th>8</th>\n",
       "      <td>residfar</td>\n",
       "    </tr>\n",
       "    <tr>\n",
       "      <th>9</th>\n",
       "      <td>year</td>\n",
       "    </tr>\n",
       "    <tr>\n",
       "      <th>10</th>\n",
       "      <td>status</td>\n",
       "    </tr>\n",
       "  </tbody>\n",
       "</table>\n",
       "</div>"
      ],
      "text/plain": [
       "   Feature Names\n",
       "0        lotarea\n",
       "1       bldgarea\n",
       "2        resarea\n",
       "3       numbldgs\n",
       "4      numfloors\n",
       "5       lotdepth\n",
       "6      bldgdepth\n",
       "7       builtfar\n",
       "8       residfar\n",
       "9           year\n",
       "10        status"
      ]
     },
     "execution_count": 47,
     "metadata": {},
     "output_type": "execute_result"
    }
   ],
   "source": [
    "Xcols"
   ]
  },
  {
   "cell_type": "code",
   "execution_count": 48,
   "metadata": {},
   "outputs": [],
   "source": [
    "featimpt = pd.concat([Xcols,featuresdf],axis=1)"
   ]
  },
  {
   "cell_type": "code",
   "execution_count": 49,
   "metadata": {},
   "outputs": [
    {
     "data": {
      "text/html": [
       "<div>\n",
       "<style scoped>\n",
       "    .dataframe tbody tr th:only-of-type {\n",
       "        vertical-align: middle;\n",
       "    }\n",
       "\n",
       "    .dataframe tbody tr th {\n",
       "        vertical-align: top;\n",
       "    }\n",
       "\n",
       "    .dataframe thead th {\n",
       "        text-align: right;\n",
       "    }\n",
       "</style>\n",
       "<table border=\"1\" class=\"dataframe\">\n",
       "  <thead>\n",
       "    <tr style=\"text-align: right;\">\n",
       "      <th></th>\n",
       "      <th>Feature Names</th>\n",
       "      <th>Score</th>\n",
       "    </tr>\n",
       "  </thead>\n",
       "  <tbody>\n",
       "    <tr>\n",
       "      <th>0</th>\n",
       "      <td>lotarea</td>\n",
       "      <td>0.040703</td>\n",
       "    </tr>\n",
       "    <tr>\n",
       "      <th>1</th>\n",
       "      <td>bldgarea</td>\n",
       "      <td>0.066382</td>\n",
       "    </tr>\n",
       "    <tr>\n",
       "      <th>2</th>\n",
       "      <td>resarea</td>\n",
       "      <td>0.021193</td>\n",
       "    </tr>\n",
       "    <tr>\n",
       "      <th>3</th>\n",
       "      <td>numbldgs</td>\n",
       "      <td>0.007194</td>\n",
       "    </tr>\n",
       "    <tr>\n",
       "      <th>4</th>\n",
       "      <td>numfloors</td>\n",
       "      <td>0.007253</td>\n",
       "    </tr>\n",
       "    <tr>\n",
       "      <th>5</th>\n",
       "      <td>lotdepth</td>\n",
       "      <td>0.059346</td>\n",
       "    </tr>\n",
       "    <tr>\n",
       "      <th>6</th>\n",
       "      <td>bldgdepth</td>\n",
       "      <td>0.035010</td>\n",
       "    </tr>\n",
       "    <tr>\n",
       "      <th>7</th>\n",
       "      <td>builtfar</td>\n",
       "      <td>0.029139</td>\n",
       "    </tr>\n",
       "    <tr>\n",
       "      <th>8</th>\n",
       "      <td>residfar</td>\n",
       "      <td>0.016135</td>\n",
       "    </tr>\n",
       "    <tr>\n",
       "      <th>9</th>\n",
       "      <td>year</td>\n",
       "      <td>0.032093</td>\n",
       "    </tr>\n",
       "    <tr>\n",
       "      <th>10</th>\n",
       "      <td>status</td>\n",
       "      <td>0.685552</td>\n",
       "    </tr>\n",
       "  </tbody>\n",
       "</table>\n",
       "</div>"
      ],
      "text/plain": [
       "   Feature Names     Score\n",
       "0        lotarea  0.040703\n",
       "1       bldgarea  0.066382\n",
       "2        resarea  0.021193\n",
       "3       numbldgs  0.007194\n",
       "4      numfloors  0.007253\n",
       "5       lotdepth  0.059346\n",
       "6      bldgdepth  0.035010\n",
       "7       builtfar  0.029139\n",
       "8       residfar  0.016135\n",
       "9           year  0.032093\n",
       "10        status  0.685552"
      ]
     },
     "execution_count": 49,
     "metadata": {},
     "output_type": "execute_result"
    }
   ],
   "source": [
    "featimpt"
   ]
  },
  {
   "cell_type": "code",
   "execution_count": 50,
   "metadata": {},
   "outputs": [
    {
     "data": {
      "text/html": [
       "<div>\n",
       "<style scoped>\n",
       "    .dataframe tbody tr th:only-of-type {\n",
       "        vertical-align: middle;\n",
       "    }\n",
       "\n",
       "    .dataframe tbody tr th {\n",
       "        vertical-align: top;\n",
       "    }\n",
       "\n",
       "    .dataframe thead th {\n",
       "        text-align: right;\n",
       "    }\n",
       "</style>\n",
       "<table border=\"1\" class=\"dataframe\">\n",
       "  <thead>\n",
       "    <tr style=\"text-align: right;\">\n",
       "      <th></th>\n",
       "      <th>Score</th>\n",
       "    </tr>\n",
       "    <tr>\n",
       "      <th>Feature Names</th>\n",
       "      <th></th>\n",
       "    </tr>\n",
       "  </thead>\n",
       "  <tbody>\n",
       "    <tr>\n",
       "      <th>lotarea</th>\n",
       "      <td>0.040703</td>\n",
       "    </tr>\n",
       "    <tr>\n",
       "      <th>bldgarea</th>\n",
       "      <td>0.066382</td>\n",
       "    </tr>\n",
       "    <tr>\n",
       "      <th>resarea</th>\n",
       "      <td>0.021193</td>\n",
       "    </tr>\n",
       "    <tr>\n",
       "      <th>numbldgs</th>\n",
       "      <td>0.007194</td>\n",
       "    </tr>\n",
       "    <tr>\n",
       "      <th>numfloors</th>\n",
       "      <td>0.007253</td>\n",
       "    </tr>\n",
       "    <tr>\n",
       "      <th>lotdepth</th>\n",
       "      <td>0.059346</td>\n",
       "    </tr>\n",
       "    <tr>\n",
       "      <th>bldgdepth</th>\n",
       "      <td>0.035010</td>\n",
       "    </tr>\n",
       "    <tr>\n",
       "      <th>builtfar</th>\n",
       "      <td>0.029139</td>\n",
       "    </tr>\n",
       "    <tr>\n",
       "      <th>residfar</th>\n",
       "      <td>0.016135</td>\n",
       "    </tr>\n",
       "    <tr>\n",
       "      <th>year</th>\n",
       "      <td>0.032093</td>\n",
       "    </tr>\n",
       "    <tr>\n",
       "      <th>status</th>\n",
       "      <td>0.685552</td>\n",
       "    </tr>\n",
       "  </tbody>\n",
       "</table>\n",
       "</div>"
      ],
      "text/plain": [
       "                  Score\n",
       "Feature Names          \n",
       "lotarea        0.040703\n",
       "bldgarea       0.066382\n",
       "resarea        0.021193\n",
       "numbldgs       0.007194\n",
       "numfloors      0.007253\n",
       "lotdepth       0.059346\n",
       "bldgdepth      0.035010\n",
       "builtfar       0.029139\n",
       "residfar       0.016135\n",
       "year           0.032093\n",
       "status         0.685552"
      ]
     },
     "execution_count": 50,
     "metadata": {},
     "output_type": "execute_result"
    }
   ],
   "source": [
    "featimpt.set_index('Feature Names')"
   ]
  },
  {
   "cell_type": "code",
   "execution_count": 51,
   "metadata": {},
   "outputs": [],
   "source": [
    "df = featimpt.set_index('Feature Names')"
   ]
  },
  {
   "cell_type": "code",
   "execution_count": 52,
   "metadata": {},
   "outputs": [
    {
     "data": {
      "image/png": "[encoded data removed]",
      "text/plain": [
       "<Figure size 576x396 with 1 Axes>"
      ]
     },
     "metadata": {},
     "output_type": "display_data"
    }
   ],
   "source": [
    "df.plot(kind='barh',title=\"Feature Importance\", legend=True)\n",
    "plt.show()"
   ]
  },
  {
   "cell_type": "markdown",
   "metadata": {},
   "source": [
    "### Tips to improve better results\n",
    "- Use more data to train (500000 to 800000 samples)\n",
    "- Perform feature engineering to create new columns\n",
    "- Model tuning using hyperparameter tuning\n",
    "- Use more powerful algorithms like XGBoost\n",
    "- Using feature importance to determine which features are more important"
   ]
  },
  {
   "cell_type": "markdown",
   "metadata": {},
   "source": [
    "### Conclusion"
   ]
  },
  {
   "cell_type": "markdown",
   "metadata": {},
   "source": [
    "**Can a predictive model be built for future prediction of the possibility of complaints of the specific type that you identified in response to Question 1?**"
   ]
  },
  {
   "cell_type": "markdown",
   "metadata": {},
   "source": [
    "Yes"
   ]
  },
  {
   "cell_type": "code",
   "execution_count": null,
   "metadata": {},
   "outputs": [],
   "source": []
  }
 ],
 "metadata": {
  "kernelspec": {
   "display_name": "Python 3",
   "language": "python",
   "name": "python3"
  },
  "language_info": {
   "codemirror_mode": {
    "name": "ipython",
    "version": 3
   },
   "file_extension": ".py",
   "mimetype": "text/x-python",
   "name": "python",
   "nbconvert_exporter": "python",
   "pygments_lexer": "ipython3",
   "version": "3.7.6"
  }
 },
 "nbformat": 4,
 "nbformat_minor": 4
}
