{
 "cells": [
  {
   "cell_type": "code",
   "execution_count": 1,
   "metadata": {},
   "outputs": [],
   "source": [
    "import numpy as np\n",
    "import pandas as pd\n",
    "import matplotlib.pyplot as plt\n",
    "import seaborn as sns\n",
    "\n",
    "%matplotlib inline\n",
    "sns.set(font_scale=1.25)\n",
    "np.random.seed(5)\n",
    "\n",
    "pd.set_option(\"display.max_rows\",10000)\n",
    "pd.set_option(\"display.max_columns\",100)\n",
    "\n",
    "import pandas_profiling as pp\n",
    "\n",
    "from sklearn.model_selection import train_test_split, cross_val_score, GridSearchCV\n",
    "from sklearn.preprocessing import StandardScaler\n",
    "\n",
    "from sklearn.neighbors import KNeighborsClassifier\n",
    "from sklearn.ensemble import RandomForestClassifier\n",
    "from sklearn.ensemble import GradientBoostingClassifier\n",
    "\n",
    "from sklearn.metrics import classification_report, confusion_matrix, plot_confusion_matrix, plot_roc_curve"
   ]
  },
  {
   "cell_type": "code",
   "execution_count": 2,
   "metadata": {},
   "outputs": [],
   "source": [
    "df = pd.read_csv(\"train1processed.csv\")"
   ]
  },
  {
   "cell_type": "code",
   "execution_count": 3,
   "metadata": {},
   "outputs": [
    {
     "data": {
      "text/html": [
       "<div>\n",
       "<style scoped>\n",
       "    .dataframe tbody tr th:only-of-type {\n",
       "        vertical-align: middle;\n",
       "    }\n",
       "\n",
       "    .dataframe tbody tr th {\n",
       "        vertical-align: top;\n",
       "    }\n",
       "\n",
       "    .dataframe thead th {\n",
       "        text-align: right;\n",
       "    }\n",
       "</style>\n",
       "<table border=\"1\" class=\"dataframe\">\n",
       "  <thead>\n",
       "    <tr style=\"text-align: right;\">\n",
       "      <th></th>\n",
       "      <th>lotarea</th>\n",
       "      <th>bldgarea</th>\n",
       "      <th>comarea</th>\n",
       "      <th>resarea</th>\n",
       "      <th>officearea</th>\n",
       "      <th>retailarea</th>\n",
       "      <th>numbldgs</th>\n",
       "      <th>numfloors</th>\n",
       "      <th>lotdepth</th>\n",
       "      <th>bldgdepth</th>\n",
       "      <th>builtfar</th>\n",
       "      <th>residfar</th>\n",
       "      <th>commfar</th>\n",
       "      <th>facilfar</th>\n",
       "      <th>years</th>\n",
       "      <th>status</th>\n",
       "      <th>complaint_type</th>\n",
       "    </tr>\n",
       "  </thead>\n",
       "  <tbody>\n",
       "    <tr>\n",
       "      <th>0</th>\n",
       "      <td>-0.035769</td>\n",
       "      <td>-0.178391</td>\n",
       "      <td>-0.107343</td>\n",
       "      <td>-0.155831</td>\n",
       "      <td>-0.060676</td>\n",
       "      <td>-0.063602</td>\n",
       "      <td>-0.26814</td>\n",
       "      <td>-0.350762</td>\n",
       "      <td>-0.277625</td>\n",
       "      <td>-0.703051</td>\n",
       "      <td>-0.230482</td>\n",
       "      <td>-0.679021</td>\n",
       "      <td>-0.209456</td>\n",
       "      <td>-0.570024</td>\n",
       "      <td>-0.144644</td>\n",
       "      <td>0</td>\n",
       "      <td>1</td>\n",
       "    </tr>\n",
       "    <tr>\n",
       "      <th>1</th>\n",
       "      <td>-0.032331</td>\n",
       "      <td>-0.121989</td>\n",
       "      <td>-0.048668</td>\n",
       "      <td>-0.112729</td>\n",
       "      <td>-0.060676</td>\n",
       "      <td>0.129165</td>\n",
       "      <td>-0.26814</td>\n",
       "      <td>0.377829</td>\n",
       "      <td>-0.090554</td>\n",
       "      <td>0.248113</td>\n",
       "      <td>0.339640</td>\n",
       "      <td>0.982978</td>\n",
       "      <td>-0.209456</td>\n",
       "      <td>0.057523</td>\n",
       "      <td>0.116633</td>\n",
       "      <td>0</td>\n",
       "      <td>1</td>\n",
       "    </tr>\n",
       "    <tr>\n",
       "      <th>2</th>\n",
       "      <td>-0.030222</td>\n",
       "      <td>-0.181321</td>\n",
       "      <td>-0.107343</td>\n",
       "      <td>-0.146578</td>\n",
       "      <td>-0.060676</td>\n",
       "      <td>-0.063602</td>\n",
       "      <td>-0.26814</td>\n",
       "      <td>0.013533</td>\n",
       "      <td>-0.216975</td>\n",
       "      <td>-0.329379</td>\n",
       "      <td>-0.696082</td>\n",
       "      <td>-0.679021</td>\n",
       "      <td>-0.209456</td>\n",
       "      <td>-0.570024</td>\n",
       "      <td>0.290817</td>\n",
       "      <td>1</td>\n",
       "      <td>1</td>\n",
       "    </tr>\n",
       "    <tr>\n",
       "      <th>3</th>\n",
       "      <td>-0.032331</td>\n",
       "      <td>-0.165209</td>\n",
       "      <td>-0.107343</td>\n",
       "      <td>-0.145085</td>\n",
       "      <td>-0.060676</td>\n",
       "      <td>-0.063602</td>\n",
       "      <td>-0.26814</td>\n",
       "      <td>-0.350762</td>\n",
       "      <td>-0.090554</td>\n",
       "      <td>-0.533200</td>\n",
       "      <td>-0.344506</td>\n",
       "      <td>-0.679021</td>\n",
       "      <td>-0.209456</td>\n",
       "      <td>-0.570024</td>\n",
       "      <td>-0.209963</td>\n",
       "      <td>1</td>\n",
       "      <td>0</td>\n",
       "    </tr>\n",
       "    <tr>\n",
       "      <th>4</th>\n",
       "      <td>-0.034206</td>\n",
       "      <td>-0.150058</td>\n",
       "      <td>-0.107343</td>\n",
       "      <td>-0.107715</td>\n",
       "      <td>-0.060676</td>\n",
       "      <td>-0.063602</td>\n",
       "      <td>-0.26814</td>\n",
       "      <td>0.377829</td>\n",
       "      <td>-0.090554</td>\n",
       "      <td>-0.023648</td>\n",
       "      <td>0.140098</td>\n",
       "      <td>-0.863687</td>\n",
       "      <td>-0.209456</td>\n",
       "      <td>-1.197571</td>\n",
       "      <td>-0.667198</td>\n",
       "      <td>1</td>\n",
       "      <td>1</td>\n",
       "    </tr>\n",
       "  </tbody>\n",
       "</table>\n",
       "</div>"
      ],
      "text/plain": [
       "    lotarea  bldgarea   comarea   resarea  officearea  retailarea  numbldgs  \\\n",
       "0 -0.035769 -0.178391 -0.107343 -0.155831   -0.060676   -0.063602  -0.26814   \n",
       "1 -0.032331 -0.121989 -0.048668 -0.112729   -0.060676    0.129165  -0.26814   \n",
       "2 -0.030222 -0.181321 -0.107343 -0.146578   -0.060676   -0.063602  -0.26814   \n",
       "3 -0.032331 -0.165209 -0.107343 -0.145085   -0.060676   -0.063602  -0.26814   \n",
       "4 -0.034206 -0.150058 -0.107343 -0.107715   -0.060676   -0.063602  -0.26814   \n",
       "\n",
       "   numfloors  lotdepth  bldgdepth  builtfar  residfar   commfar  facilfar  \\\n",
       "0  -0.350762 -0.277625  -0.703051 -0.230482 -0.679021 -0.209456 -0.570024   \n",
       "1   0.377829 -0.090554   0.248113  0.339640  0.982978 -0.209456  0.057523   \n",
       "2   0.013533 -0.216975  -0.329379 -0.696082 -0.679021 -0.209456 -0.570024   \n",
       "3  -0.350762 -0.090554  -0.533200 -0.344506 -0.679021 -0.209456 -0.570024   \n",
       "4   0.377829 -0.090554  -0.023648  0.140098 -0.863687 -0.209456 -1.197571   \n",
       "\n",
       "      years  status  complaint_type  \n",
       "0 -0.144644       0               1  \n",
       "1  0.116633       0               1  \n",
       "2  0.290817       1               1  \n",
       "3 -0.209963       1               0  \n",
       "4 -0.667198       1               1  "
      ]
     },
     "execution_count": 3,
     "metadata": {},
     "output_type": "execute_result"
    }
   ],
   "source": [
    "df.head()"
   ]
  },
  {
   "cell_type": "markdown",
   "metadata": {},
   "source": [
    "### Split data for training"
   ]
  },
  {
   "cell_type": "code",
   "execution_count": 4,
   "metadata": {},
   "outputs": [],
   "source": [
    "X = df.iloc[:,0:16]\n",
    "y = df.iloc[:,16]"
   ]
  },
  {
   "cell_type": "code",
   "execution_count": 5,
   "metadata": {},
   "outputs": [
    {
     "data": {
      "text/plain": [
       "((12763, 16), (12763,))"
      ]
     },
     "execution_count": 5,
     "metadata": {},
     "output_type": "execute_result"
    }
   ],
   "source": [
    "X.shape, y.shape"
   ]
  },
  {
   "cell_type": "code",
   "execution_count": 6,
   "metadata": {},
   "outputs": [
    {
     "data": {
      "text/html": [
       "<div>\n",
       "<style scoped>\n",
       "    .dataframe tbody tr th:only-of-type {\n",
       "        vertical-align: middle;\n",
       "    }\n",
       "\n",
       "    .dataframe tbody tr th {\n",
       "        vertical-align: top;\n",
       "    }\n",
       "\n",
       "    .dataframe thead th {\n",
       "        text-align: right;\n",
       "    }\n",
       "</style>\n",
       "<table border=\"1\" class=\"dataframe\">\n",
       "  <thead>\n",
       "    <tr style=\"text-align: right;\">\n",
       "      <th></th>\n",
       "      <th>lotarea</th>\n",
       "      <th>bldgarea</th>\n",
       "      <th>comarea</th>\n",
       "      <th>resarea</th>\n",
       "      <th>officearea</th>\n",
       "      <th>retailarea</th>\n",
       "      <th>numbldgs</th>\n",
       "      <th>numfloors</th>\n",
       "      <th>lotdepth</th>\n",
       "      <th>bldgdepth</th>\n",
       "      <th>builtfar</th>\n",
       "      <th>residfar</th>\n",
       "      <th>commfar</th>\n",
       "      <th>facilfar</th>\n",
       "      <th>years</th>\n",
       "      <th>status</th>\n",
       "    </tr>\n",
       "  </thead>\n",
       "  <tbody>\n",
       "    <tr>\n",
       "      <th>0</th>\n",
       "      <td>-0.035769</td>\n",
       "      <td>-0.178391</td>\n",
       "      <td>-0.107343</td>\n",
       "      <td>-0.155831</td>\n",
       "      <td>-0.060676</td>\n",
       "      <td>-0.063602</td>\n",
       "      <td>-0.26814</td>\n",
       "      <td>-0.350762</td>\n",
       "      <td>-0.277625</td>\n",
       "      <td>-0.703051</td>\n",
       "      <td>-0.230482</td>\n",
       "      <td>-0.679021</td>\n",
       "      <td>-0.209456</td>\n",
       "      <td>-0.570024</td>\n",
       "      <td>-0.144644</td>\n",
       "      <td>0</td>\n",
       "    </tr>\n",
       "    <tr>\n",
       "      <th>1</th>\n",
       "      <td>-0.032331</td>\n",
       "      <td>-0.121989</td>\n",
       "      <td>-0.048668</td>\n",
       "      <td>-0.112729</td>\n",
       "      <td>-0.060676</td>\n",
       "      <td>0.129165</td>\n",
       "      <td>-0.26814</td>\n",
       "      <td>0.377829</td>\n",
       "      <td>-0.090554</td>\n",
       "      <td>0.248113</td>\n",
       "      <td>0.339640</td>\n",
       "      <td>0.982978</td>\n",
       "      <td>-0.209456</td>\n",
       "      <td>0.057523</td>\n",
       "      <td>0.116633</td>\n",
       "      <td>0</td>\n",
       "    </tr>\n",
       "    <tr>\n",
       "      <th>2</th>\n",
       "      <td>-0.030222</td>\n",
       "      <td>-0.181321</td>\n",
       "      <td>-0.107343</td>\n",
       "      <td>-0.146578</td>\n",
       "      <td>-0.060676</td>\n",
       "      <td>-0.063602</td>\n",
       "      <td>-0.26814</td>\n",
       "      <td>0.013533</td>\n",
       "      <td>-0.216975</td>\n",
       "      <td>-0.329379</td>\n",
       "      <td>-0.696082</td>\n",
       "      <td>-0.679021</td>\n",
       "      <td>-0.209456</td>\n",
       "      <td>-0.570024</td>\n",
       "      <td>0.290817</td>\n",
       "      <td>1</td>\n",
       "    </tr>\n",
       "    <tr>\n",
       "      <th>3</th>\n",
       "      <td>-0.032331</td>\n",
       "      <td>-0.165209</td>\n",
       "      <td>-0.107343</td>\n",
       "      <td>-0.145085</td>\n",
       "      <td>-0.060676</td>\n",
       "      <td>-0.063602</td>\n",
       "      <td>-0.26814</td>\n",
       "      <td>-0.350762</td>\n",
       "      <td>-0.090554</td>\n",
       "      <td>-0.533200</td>\n",
       "      <td>-0.344506</td>\n",
       "      <td>-0.679021</td>\n",
       "      <td>-0.209456</td>\n",
       "      <td>-0.570024</td>\n",
       "      <td>-0.209963</td>\n",
       "      <td>1</td>\n",
       "    </tr>\n",
       "    <tr>\n",
       "      <th>4</th>\n",
       "      <td>-0.034206</td>\n",
       "      <td>-0.150058</td>\n",
       "      <td>-0.107343</td>\n",
       "      <td>-0.107715</td>\n",
       "      <td>-0.060676</td>\n",
       "      <td>-0.063602</td>\n",
       "      <td>-0.26814</td>\n",
       "      <td>0.377829</td>\n",
       "      <td>-0.090554</td>\n",
       "      <td>-0.023648</td>\n",
       "      <td>0.140098</td>\n",
       "      <td>-0.863687</td>\n",
       "      <td>-0.209456</td>\n",
       "      <td>-1.197571</td>\n",
       "      <td>-0.667198</td>\n",
       "      <td>1</td>\n",
       "    </tr>\n",
       "  </tbody>\n",
       "</table>\n",
       "</div>"
      ],
      "text/plain": [
       "    lotarea  bldgarea   comarea   resarea  officearea  retailarea  numbldgs  \\\n",
       "0 -0.035769 -0.178391 -0.107343 -0.155831   -0.060676   -0.063602  -0.26814   \n",
       "1 -0.032331 -0.121989 -0.048668 -0.112729   -0.060676    0.129165  -0.26814   \n",
       "2 -0.030222 -0.181321 -0.107343 -0.146578   -0.060676   -0.063602  -0.26814   \n",
       "3 -0.032331 -0.165209 -0.107343 -0.145085   -0.060676   -0.063602  -0.26814   \n",
       "4 -0.034206 -0.150058 -0.107343 -0.107715   -0.060676   -0.063602  -0.26814   \n",
       "\n",
       "   numfloors  lotdepth  bldgdepth  builtfar  residfar   commfar  facilfar  \\\n",
       "0  -0.350762 -0.277625  -0.703051 -0.230482 -0.679021 -0.209456 -0.570024   \n",
       "1   0.377829 -0.090554   0.248113  0.339640  0.982978 -0.209456  0.057523   \n",
       "2   0.013533 -0.216975  -0.329379 -0.696082 -0.679021 -0.209456 -0.570024   \n",
       "3  -0.350762 -0.090554  -0.533200 -0.344506 -0.679021 -0.209456 -0.570024   \n",
       "4   0.377829 -0.090554  -0.023648  0.140098 -0.863687 -0.209456 -1.197571   \n",
       "\n",
       "      years  status  \n",
       "0 -0.144644       0  \n",
       "1  0.116633       0  \n",
       "2  0.290817       1  \n",
       "3 -0.209963       1  \n",
       "4 -0.667198       1  "
      ]
     },
     "execution_count": 6,
     "metadata": {},
     "output_type": "execute_result"
    }
   ],
   "source": [
    "X.head()"
   ]
  },
  {
   "cell_type": "code",
   "execution_count": 7,
   "metadata": {},
   "outputs": [
    {
     "data": {
      "text/plain": [
       "0    1\n",
       "1    1\n",
       "2    1\n",
       "3    0\n",
       "4    1\n",
       "Name: complaint_type, dtype: int64"
      ]
     },
     "execution_count": 7,
     "metadata": {},
     "output_type": "execute_result"
    }
   ],
   "source": [
    "y.head()"
   ]
  },
  {
   "cell_type": "code",
   "execution_count": 8,
   "metadata": {},
   "outputs": [
    {
     "data": {
      "text/plain": [
       "(array([[-0.03576934, -0.17839125, -0.10734276, ..., -0.57002413,\n",
       "         -0.14464429,  0.        ],\n",
       "        [-0.03233052, -0.12198872, -0.04866845, ...,  0.05752312,\n",
       "          0.11663255,  0.        ],\n",
       "        [-0.03022222, -0.18132063, -0.10734276, ..., -0.57002413,\n",
       "          0.29081711,  1.        ],\n",
       "        ...,\n",
       "        [-0.01562996,  0.46259021, -0.10734276, ...,  1.18710816,\n",
       "          0.4432286 ,  0.        ],\n",
       "        [-0.03532715, -0.16023871, -0.10734276, ...,  1.18710816,\n",
       "         -1.05911323,  0.        ],\n",
       "        [-0.03523634, -0.16801837, -0.10734276, ..., -0.57002413,\n",
       "         -0.36237499,  0.        ]]),\n",
       " array([1, 1, 1, ..., 1, 1, 1], dtype=int64))"
      ]
     },
     "execution_count": 8,
     "metadata": {},
     "output_type": "execute_result"
    }
   ],
   "source": [
    "X.values, y.values"
   ]
  },
  {
   "cell_type": "code",
   "execution_count": 9,
   "metadata": {},
   "outputs": [],
   "source": [
    "X_train, X_test, y_train, y_test = train_test_split(X, y, test_size=0.2, stratify=y)"
   ]
  },
  {
   "cell_type": "code",
   "execution_count": 10,
   "metadata": {},
   "outputs": [
    {
     "data": {
      "text/plain": [
       "((10210, 16), (2553, 16))"
      ]
     },
     "execution_count": 10,
     "metadata": {},
     "output_type": "execute_result"
    }
   ],
   "source": [
    "X_train.shape, X_test.shape"
   ]
  },
  {
   "cell_type": "markdown",
   "metadata": {},
   "source": [
    "### Model 1: KNN Classifier"
   ]
  },
  {
   "cell_type": "code",
   "execution_count": 11,
   "metadata": {},
   "outputs": [],
   "source": [
    "neigh = KNeighborsClassifier(n_neighbors=3)"
   ]
  },
  {
   "cell_type": "code",
   "execution_count": 12,
   "metadata": {},
   "outputs": [
    {
     "data": {
      "text/plain": [
       "KNeighborsClassifier(algorithm='auto', leaf_size=30, metric='minkowski',\n",
       "                     metric_params=None, n_jobs=None, n_neighbors=3, p=2,\n",
       "                     weights='uniform')"
      ]
     },
     "execution_count": 12,
     "metadata": {},
     "output_type": "execute_result"
    }
   ],
   "source": [
    "neigh.fit(X_train,y_train)"
   ]
  },
  {
   "cell_type": "code",
   "execution_count": 13,
   "metadata": {},
   "outputs": [],
   "source": [
    "ypred = neigh.predict(X_test)"
   ]
  },
  {
   "cell_type": "code",
   "execution_count": 14,
   "metadata": {},
   "outputs": [
    {
     "data": {
      "text/plain": [
       "array([1, 0, 0, ..., 0, 1, 1], dtype=int64)"
      ]
     },
     "execution_count": 14,
     "metadata": {},
     "output_type": "execute_result"
    }
   ],
   "source": [
    "ypred"
   ]
  },
  {
   "cell_type": "code",
   "execution_count": 15,
   "metadata": {},
   "outputs": [
    {
     "name": "stdout",
     "output_type": "stream",
     "text": [
      "              precision    recall  f1-score   support\n",
      "\n",
      "           0       0.54      0.53      0.54      1253\n",
      "           1       0.56      0.57      0.56      1300\n",
      "\n",
      "    accuracy                           0.55      2553\n",
      "   macro avg       0.55      0.55      0.55      2553\n",
      "weighted avg       0.55      0.55      0.55      2553\n",
      "\n"
     ]
    }
   ],
   "source": [
    "print(classification_report(y_test,ypred))"
   ]
  },
  {
   "cell_type": "code",
   "execution_count": 16,
   "metadata": {},
   "outputs": [
    {
     "data": {
      "text/plain": [
       "array([[669, 584],\n",
       "       [559, 741]], dtype=int64)"
      ]
     },
     "execution_count": 16,
     "metadata": {},
     "output_type": "execute_result"
    }
   ],
   "source": [
    "cm = confusion_matrix(y_test,ypred)\n",
    "cm"
   ]
  },
  {
   "cell_type": "code",
   "execution_count": 17,
   "metadata": {},
   "outputs": [
    {
     "data": {
      "image/png": "[encoded data removed]",
      "text/plain": [
       "<Figure size 576x396 with 2 Axes>"
      ]
     },
     "metadata": {},
     "output_type": "display_data"
    }
   ],
   "source": [
    "plot_confusion_matrix(neigh,X_test,y_test,values_format='.3g',cmap=\"Blues_r\")\n",
    "plt.show()"
   ]
  },
  {
   "cell_type": "code",
   "execution_count": 18,
   "metadata": {},
   "outputs": [
    {
     "data": {
      "image/png": "[encoded data removed]",
      "text/plain": [
       "<Figure size 576x396 with 1 Axes>"
      ]
     },
     "metadata": {},
     "output_type": "display_data"
    }
   ],
   "source": [
    "plot_roc_curve(neigh,X_test,y_test)\n",
    "plt.show()"
   ]
  },
  {
   "cell_type": "markdown",
   "metadata": {},
   "source": [
    "### Use Random Forest"
   ]
  },
  {
   "cell_type": "code",
   "execution_count": 19,
   "metadata": {},
   "outputs": [],
   "source": [
    "rf = RandomForestClassifier()"
   ]
  },
  {
   "cell_type": "code",
   "execution_count": 20,
   "metadata": {},
   "outputs": [
    {
     "data": {
      "text/plain": [
       "RandomForestClassifier(bootstrap=True, ccp_alpha=0.0, class_weight=None,\n",
       "                       criterion='gini', max_depth=None, max_features='auto',\n",
       "                       max_leaf_nodes=None, max_samples=None,\n",
       "                       min_impurity_decrease=0.0, min_impurity_split=None,\n",
       "                       min_samples_leaf=1, min_samples_split=2,\n",
       "                       min_weight_fraction_leaf=0.0, n_estimators=100,\n",
       "                       n_jobs=None, oob_score=False, random_state=None,\n",
       "                       verbose=0, warm_start=False)"
      ]
     },
     "execution_count": 20,
     "metadata": {},
     "output_type": "execute_result"
    }
   ],
   "source": [
    "rf.fit(X_train,y_train)"
   ]
  },
  {
   "cell_type": "code",
   "execution_count": 21,
   "metadata": {},
   "outputs": [],
   "source": [
    "ypred = rf.predict(X_test)"
   ]
  },
  {
   "cell_type": "code",
   "execution_count": 22,
   "metadata": {},
   "outputs": [
    {
     "data": {
      "text/plain": [
       "array([1, 1, 0, ..., 1, 0, 1], dtype=int64)"
      ]
     },
     "execution_count": 22,
     "metadata": {},
     "output_type": "execute_result"
    }
   ],
   "source": [
    "ypred"
   ]
  },
  {
   "cell_type": "code",
   "execution_count": 23,
   "metadata": {},
   "outputs": [
    {
     "name": "stdout",
     "output_type": "stream",
     "text": [
      "              precision    recall  f1-score   support\n",
      "\n",
      "           0       0.57      0.49      0.53      1253\n",
      "           1       0.57      0.65      0.61      1300\n",
      "\n",
      "    accuracy                           0.57      2553\n",
      "   macro avg       0.57      0.57      0.57      2553\n",
      "weighted avg       0.57      0.57      0.57      2553\n",
      "\n"
     ]
    }
   ],
   "source": [
    "print(classification_report(y_test,ypred))"
   ]
  },
  {
   "cell_type": "code",
   "execution_count": 24,
   "metadata": {},
   "outputs": [
    {
     "data": {
      "text/plain": [
       "array([[608, 645],\n",
       "       [453, 847]], dtype=int64)"
      ]
     },
     "execution_count": 24,
     "metadata": {},
     "output_type": "execute_result"
    }
   ],
   "source": [
    "cm = confusion_matrix(y_test,ypred)\n",
    "cm"
   ]
  },
  {
   "cell_type": "code",
   "execution_count": 25,
   "metadata": {},
   "outputs": [
    {
     "data": {
      "image/png": "[encoded data removed]",
      "text/plain": [
       "<Figure size 576x396 with 2 Axes>"
      ]
     },
     "metadata": {},
     "output_type": "display_data"
    }
   ],
   "source": [
    "plot_confusion_matrix(rf,X_test,y_test,values_format='.3g',cmap=\"Blues_r\")\n",
    "plt.show()"
   ]
  },
  {
   "cell_type": "code",
   "execution_count": 26,
   "metadata": {},
   "outputs": [
    {
     "data": {
      "image/png": "[encoded data removed]",
      "text/plain": [
       "<Figure size 576x396 with 1 Axes>"
      ]
     },
     "metadata": {},
     "output_type": "display_data"
    }
   ],
   "source": [
    "plot_roc_curve(rf,X_test,y_test)\n",
    "plt.show()"
   ]
  },
  {
   "cell_type": "markdown",
   "metadata": {},
   "source": [
    "### Use Gradient Boosting"
   ]
  },
  {
   "cell_type": "code",
   "execution_count": 27,
   "metadata": {},
   "outputs": [],
   "source": [
    "gb = GradientBoostingClassifier()"
   ]
  },
  {
   "cell_type": "code",
   "execution_count": 28,
   "metadata": {},
   "outputs": [
    {
     "data": {
      "text/plain": [
       "GradientBoostingClassifier(ccp_alpha=0.0, criterion='friedman_mse', init=None,\n",
       "                           learning_rate=0.1, loss='deviance', max_depth=3,\n",
       "                           max_features=None, max_leaf_nodes=None,\n",
       "                           min_impurity_decrease=0.0, min_impurity_split=None,\n",
       "                           min_samples_leaf=1, min_samples_split=2,\n",
       "                           min_weight_fraction_leaf=0.0, n_estimators=100,\n",
       "                           n_iter_no_change=None, presort='deprecated',\n",
       "                           random_state=None, subsample=1.0, tol=0.0001,\n",
       "                           validation_fraction=0.1, verbose=0,\n",
       "                           warm_start=False)"
      ]
     },
     "execution_count": 28,
     "metadata": {},
     "output_type": "execute_result"
    }
   ],
   "source": [
    "gb.fit(X_train,y_train)"
   ]
  },
  {
   "cell_type": "code",
   "execution_count": 29,
   "metadata": {},
   "outputs": [],
   "source": [
    "ypred = gb.predict(X_test)"
   ]
  },
  {
   "cell_type": "code",
   "execution_count": 30,
   "metadata": {},
   "outputs": [
    {
     "data": {
      "text/plain": [
       "array([1, 1, 1, ..., 1, 1, 1], dtype=int64)"
      ]
     },
     "execution_count": 30,
     "metadata": {},
     "output_type": "execute_result"
    }
   ],
   "source": [
    "ypred"
   ]
  },
  {
   "cell_type": "code",
   "execution_count": 31,
   "metadata": {},
   "outputs": [
    {
     "name": "stdout",
     "output_type": "stream",
     "text": [
      "              precision    recall  f1-score   support\n",
      "\n",
      "           0       0.72      0.31      0.44      1253\n",
      "           1       0.57      0.88      0.69      1300\n",
      "\n",
      "    accuracy                           0.60      2553\n",
      "   macro avg       0.64      0.60      0.56      2553\n",
      "weighted avg       0.64      0.60      0.57      2553\n",
      "\n"
     ]
    }
   ],
   "source": [
    "print(classification_report(y_test,ypred))"
   ]
  },
  {
   "cell_type": "code",
   "execution_count": 32,
   "metadata": {},
   "outputs": [
    {
     "data": {
      "text/plain": [
       "array([[ 392,  861],\n",
       "       [ 155, 1145]], dtype=int64)"
      ]
     },
     "execution_count": 32,
     "metadata": {},
     "output_type": "execute_result"
    }
   ],
   "source": [
    "cm = confusion_matrix(y_test,ypred)\n",
    "cm"
   ]
  },
  {
   "cell_type": "code",
   "execution_count": 33,
   "metadata": {},
   "outputs": [
    {
     "data": {
      "image/png": "[encoded data removed]",
      "text/plain": [
       "<Figure size 576x396 with 2 Axes>"
      ]
     },
     "metadata": {},
     "output_type": "display_data"
    }
   ],
   "source": [
    "plot_confusion_matrix(gb,X_test,y_test,values_format='.4g',cmap=\"Blues_r\")\n",
    "plt.show()"
   ]
  },
  {
   "cell_type": "code",
   "execution_count": 34,
   "metadata": {},
   "outputs": [
    {
     "data": {
      "image/png": "[encoded data removed]",
      "text/plain": [
       "<Figure size 576x396 with 1 Axes>"
      ]
     },
     "metadata": {},
     "output_type": "display_data"
    }
   ],
   "source": [
    "plot_roc_curve(rf,X_test,y_test)\n",
    "plt.show()"
   ]
  },
  {
   "cell_type": "markdown",
   "metadata": {},
   "source": [
    "**Use Gradient Boosting as it can detect more Heat/Hot water issues**"
   ]
  },
  {
   "cell_type": "markdown",
   "metadata": {},
   "source": [
    "### Perform cross-validation"
   ]
  },
  {
   "cell_type": "code",
   "execution_count": 35,
   "metadata": {},
   "outputs": [],
   "source": [
    "gbcv = cross_val_score(gb,X,y,scoring='accuracy',cv=5)"
   ]
  },
  {
   "cell_type": "code",
   "execution_count": 36,
   "metadata": {},
   "outputs": [
    {
     "data": {
      "text/plain": [
       "array([0.62984724, 0.54014884, 0.50959655, 0.54898119, 0.64498433])"
      ]
     },
     "execution_count": 36,
     "metadata": {},
     "output_type": "execute_result"
    }
   ],
   "source": [
    "gbcv"
   ]
  },
  {
   "cell_type": "code",
   "execution_count": 37,
   "metadata": {},
   "outputs": [
    {
     "data": {
      "text/plain": [
       "0.5747116306711509"
      ]
     },
     "execution_count": 37,
     "metadata": {},
     "output_type": "execute_result"
    }
   ],
   "source": [
    "gbcv.mean()"
   ]
  },
  {
   "cell_type": "markdown",
   "metadata": {},
   "source": [
    "### Find Feature Importances"
   ]
  },
  {
   "cell_type": "code",
   "execution_count": 38,
   "metadata": {},
   "outputs": [
    {
     "data": {
      "text/plain": [
       "array([0.06624553, 0.01861322, 0.00836549, 0.04292594, 0.01169976,\n",
       "       0.01345206, 0.00537153, 0.00567271, 0.04970795, 0.0122504 ,\n",
       "       0.03603158, 0.006994  , 0.00525621, 0.02750208, 0.02216791,\n",
       "       0.66774366])"
      ]
     },
     "execution_count": 38,
     "metadata": {},
     "output_type": "execute_result"
    }
   ],
   "source": [
    "features = gb.feature_importances_\n",
    "features"
   ]
  },
  {
   "cell_type": "code",
   "execution_count": 39,
   "metadata": {},
   "outputs": [],
   "source": [
    "featuresdf = pd.DataFrame(features, columns=[\"Score\"])"
   ]
  },
  {
   "cell_type": "code",
   "execution_count": 40,
   "metadata": {},
   "outputs": [
    {
     "data": {
      "text/html": [
       "<div>\n",
       "<style scoped>\n",
       "    .dataframe tbody tr th:only-of-type {\n",
       "        vertical-align: middle;\n",
       "    }\n",
       "\n",
       "    .dataframe tbody tr th {\n",
       "        vertical-align: top;\n",
       "    }\n",
       "\n",
       "    .dataframe thead th {\n",
       "        text-align: right;\n",
       "    }\n",
       "</style>\n",
       "<table border=\"1\" class=\"dataframe\">\n",
       "  <thead>\n",
       "    <tr style=\"text-align: right;\">\n",
       "      <th></th>\n",
       "      <th>Score</th>\n",
       "    </tr>\n",
       "  </thead>\n",
       "  <tbody>\n",
       "    <tr>\n",
       "      <th>0</th>\n",
       "      <td>0.066246</td>\n",
       "    </tr>\n",
       "    <tr>\n",
       "      <th>1</th>\n",
       "      <td>0.018613</td>\n",
       "    </tr>\n",
       "    <tr>\n",
       "      <th>2</th>\n",
       "      <td>0.008365</td>\n",
       "    </tr>\n",
       "    <tr>\n",
       "      <th>3</th>\n",
       "      <td>0.042926</td>\n",
       "    </tr>\n",
       "    <tr>\n",
       "      <th>4</th>\n",
       "      <td>0.011700</td>\n",
       "    </tr>\n",
       "    <tr>\n",
       "      <th>5</th>\n",
       "      <td>0.013452</td>\n",
       "    </tr>\n",
       "    <tr>\n",
       "      <th>6</th>\n",
       "      <td>0.005372</td>\n",
       "    </tr>\n",
       "    <tr>\n",
       "      <th>7</th>\n",
       "      <td>0.005673</td>\n",
       "    </tr>\n",
       "    <tr>\n",
       "      <th>8</th>\n",
       "      <td>0.049708</td>\n",
       "    </tr>\n",
       "    <tr>\n",
       "      <th>9</th>\n",
       "      <td>0.012250</td>\n",
       "    </tr>\n",
       "    <tr>\n",
       "      <th>10</th>\n",
       "      <td>0.036032</td>\n",
       "    </tr>\n",
       "    <tr>\n",
       "      <th>11</th>\n",
       "      <td>0.006994</td>\n",
       "    </tr>\n",
       "    <tr>\n",
       "      <th>12</th>\n",
       "      <td>0.005256</td>\n",
       "    </tr>\n",
       "    <tr>\n",
       "      <th>13</th>\n",
       "      <td>0.027502</td>\n",
       "    </tr>\n",
       "    <tr>\n",
       "      <th>14</th>\n",
       "      <td>0.022168</td>\n",
       "    </tr>\n",
       "    <tr>\n",
       "      <th>15</th>\n",
       "      <td>0.667744</td>\n",
       "    </tr>\n",
       "  </tbody>\n",
       "</table>\n",
       "</div>"
      ],
      "text/plain": [
       "       Score\n",
       "0   0.066246\n",
       "1   0.018613\n",
       "2   0.008365\n",
       "3   0.042926\n",
       "4   0.011700\n",
       "5   0.013452\n",
       "6   0.005372\n",
       "7   0.005673\n",
       "8   0.049708\n",
       "9   0.012250\n",
       "10  0.036032\n",
       "11  0.006994\n",
       "12  0.005256\n",
       "13  0.027502\n",
       "14  0.022168\n",
       "15  0.667744"
      ]
     },
     "execution_count": 40,
     "metadata": {},
     "output_type": "execute_result"
    }
   ],
   "source": [
    "featuresdf"
   ]
  },
  {
   "cell_type": "code",
   "execution_count": 41,
   "metadata": {},
   "outputs": [],
   "source": [
    "Xcols = pd.DataFrame(X.columns,columns=['Feature Names'])"
   ]
  },
  {
   "cell_type": "code",
   "execution_count": 42,
   "metadata": {},
   "outputs": [
    {
     "data": {
      "text/html": [
       "<div>\n",
       "<style scoped>\n",
       "    .dataframe tbody tr th:only-of-type {\n",
       "        vertical-align: middle;\n",
       "    }\n",
       "\n",
       "    .dataframe tbody tr th {\n",
       "        vertical-align: top;\n",
       "    }\n",
       "\n",
       "    .dataframe thead th {\n",
       "        text-align: right;\n",
       "    }\n",
       "</style>\n",
       "<table border=\"1\" class=\"dataframe\">\n",
       "  <thead>\n",
       "    <tr style=\"text-align: right;\">\n",
       "      <th></th>\n",
       "      <th>Feature Names</th>\n",
       "    </tr>\n",
       "  </thead>\n",
       "  <tbody>\n",
       "    <tr>\n",
       "      <th>0</th>\n",
       "      <td>lotarea</td>\n",
       "    </tr>\n",
       "    <tr>\n",
       "      <th>1</th>\n",
       "      <td>bldgarea</td>\n",
       "    </tr>\n",
       "    <tr>\n",
       "      <th>2</th>\n",
       "      <td>comarea</td>\n",
       "    </tr>\n",
       "    <tr>\n",
       "      <th>3</th>\n",
       "      <td>resarea</td>\n",
       "    </tr>\n",
       "    <tr>\n",
       "      <th>4</th>\n",
       "      <td>officearea</td>\n",
       "    </tr>\n",
       "    <tr>\n",
       "      <th>5</th>\n",
       "      <td>retailarea</td>\n",
       "    </tr>\n",
       "    <tr>\n",
       "      <th>6</th>\n",
       "      <td>numbldgs</td>\n",
       "    </tr>\n",
       "    <tr>\n",
       "      <th>7</th>\n",
       "      <td>numfloors</td>\n",
       "    </tr>\n",
       "    <tr>\n",
       "      <th>8</th>\n",
       "      <td>lotdepth</td>\n",
       "    </tr>\n",
       "    <tr>\n",
       "      <th>9</th>\n",
       "      <td>bldgdepth</td>\n",
       "    </tr>\n",
       "    <tr>\n",
       "      <th>10</th>\n",
       "      <td>builtfar</td>\n",
       "    </tr>\n",
       "    <tr>\n",
       "      <th>11</th>\n",
       "      <td>residfar</td>\n",
       "    </tr>\n",
       "    <tr>\n",
       "      <th>12</th>\n",
       "      <td>commfar</td>\n",
       "    </tr>\n",
       "    <tr>\n",
       "      <th>13</th>\n",
       "      <td>facilfar</td>\n",
       "    </tr>\n",
       "    <tr>\n",
       "      <th>14</th>\n",
       "      <td>years</td>\n",
       "    </tr>\n",
       "    <tr>\n",
       "      <th>15</th>\n",
       "      <td>status</td>\n",
       "    </tr>\n",
       "  </tbody>\n",
       "</table>\n",
       "</div>"
      ],
      "text/plain": [
       "   Feature Names\n",
       "0        lotarea\n",
       "1       bldgarea\n",
       "2        comarea\n",
       "3        resarea\n",
       "4     officearea\n",
       "5     retailarea\n",
       "6       numbldgs\n",
       "7      numfloors\n",
       "8       lotdepth\n",
       "9      bldgdepth\n",
       "10      builtfar\n",
       "11      residfar\n",
       "12       commfar\n",
       "13      facilfar\n",
       "14         years\n",
       "15        status"
      ]
     },
     "execution_count": 42,
     "metadata": {},
     "output_type": "execute_result"
    }
   ],
   "source": [
    "Xcols"
   ]
  },
  {
   "cell_type": "code",
   "execution_count": 43,
   "metadata": {},
   "outputs": [],
   "source": [
    "featimpt = pd.concat([Xcols,featuresdf],axis=1)"
   ]
  },
  {
   "cell_type": "code",
   "execution_count": 44,
   "metadata": {},
   "outputs": [
    {
     "data": {
      "text/html": [
       "<div>\n",
       "<style scoped>\n",
       "    .dataframe tbody tr th:only-of-type {\n",
       "        vertical-align: middle;\n",
       "    }\n",
       "\n",
       "    .dataframe tbody tr th {\n",
       "        vertical-align: top;\n",
       "    }\n",
       "\n",
       "    .dataframe thead th {\n",
       "        text-align: right;\n",
       "    }\n",
       "</style>\n",
       "<table border=\"1\" class=\"dataframe\">\n",
       "  <thead>\n",
       "    <tr style=\"text-align: right;\">\n",
       "      <th></th>\n",
       "      <th>Feature Names</th>\n",
       "      <th>Score</th>\n",
       "    </tr>\n",
       "  </thead>\n",
       "  <tbody>\n",
       "    <tr>\n",
       "      <th>0</th>\n",
       "      <td>lotarea</td>\n",
       "      <td>0.066246</td>\n",
       "    </tr>\n",
       "    <tr>\n",
       "      <th>1</th>\n",
       "      <td>bldgarea</td>\n",
       "      <td>0.018613</td>\n",
       "    </tr>\n",
       "    <tr>\n",
       "      <th>2</th>\n",
       "      <td>comarea</td>\n",
       "      <td>0.008365</td>\n",
       "    </tr>\n",
       "    <tr>\n",
       "      <th>3</th>\n",
       "      <td>resarea</td>\n",
       "      <td>0.042926</td>\n",
       "    </tr>\n",
       "    <tr>\n",
       "      <th>4</th>\n",
       "      <td>officearea</td>\n",
       "      <td>0.011700</td>\n",
       "    </tr>\n",
       "    <tr>\n",
       "      <th>5</th>\n",
       "      <td>retailarea</td>\n",
       "      <td>0.013452</td>\n",
       "    </tr>\n",
       "    <tr>\n",
       "      <th>6</th>\n",
       "      <td>numbldgs</td>\n",
       "      <td>0.005372</td>\n",
       "    </tr>\n",
       "    <tr>\n",
       "      <th>7</th>\n",
       "      <td>numfloors</td>\n",
       "      <td>0.005673</td>\n",
       "    </tr>\n",
       "    <tr>\n",
       "      <th>8</th>\n",
       "      <td>lotdepth</td>\n",
       "      <td>0.049708</td>\n",
       "    </tr>\n",
       "    <tr>\n",
       "      <th>9</th>\n",
       "      <td>bldgdepth</td>\n",
       "      <td>0.012250</td>\n",
       "    </tr>\n",
       "    <tr>\n",
       "      <th>10</th>\n",
       "      <td>builtfar</td>\n",
       "      <td>0.036032</td>\n",
       "    </tr>\n",
       "    <tr>\n",
       "      <th>11</th>\n",
       "      <td>residfar</td>\n",
       "      <td>0.006994</td>\n",
       "    </tr>\n",
       "    <tr>\n",
       "      <th>12</th>\n",
       "      <td>commfar</td>\n",
       "      <td>0.005256</td>\n",
       "    </tr>\n",
       "    <tr>\n",
       "      <th>13</th>\n",
       "      <td>facilfar</td>\n",
       "      <td>0.027502</td>\n",
       "    </tr>\n",
       "    <tr>\n",
       "      <th>14</th>\n",
       "      <td>years</td>\n",
       "      <td>0.022168</td>\n",
       "    </tr>\n",
       "    <tr>\n",
       "      <th>15</th>\n",
       "      <td>status</td>\n",
       "      <td>0.667744</td>\n",
       "    </tr>\n",
       "  </tbody>\n",
       "</table>\n",
       "</div>"
      ],
      "text/plain": [
       "   Feature Names     Score\n",
       "0        lotarea  0.066246\n",
       "1       bldgarea  0.018613\n",
       "2        comarea  0.008365\n",
       "3        resarea  0.042926\n",
       "4     officearea  0.011700\n",
       "5     retailarea  0.013452\n",
       "6       numbldgs  0.005372\n",
       "7      numfloors  0.005673\n",
       "8       lotdepth  0.049708\n",
       "9      bldgdepth  0.012250\n",
       "10      builtfar  0.036032\n",
       "11      residfar  0.006994\n",
       "12       commfar  0.005256\n",
       "13      facilfar  0.027502\n",
       "14         years  0.022168\n",
       "15        status  0.667744"
      ]
     },
     "execution_count": 44,
     "metadata": {},
     "output_type": "execute_result"
    }
   ],
   "source": [
    "featimpt"
   ]
  },
  {
   "cell_type": "code",
   "execution_count": 45,
   "metadata": {},
   "outputs": [
    {
     "data": {
      "text/html": [
       "<div>\n",
       "<style scoped>\n",
       "    .dataframe tbody tr th:only-of-type {\n",
       "        vertical-align: middle;\n",
       "    }\n",
       "\n",
       "    .dataframe tbody tr th {\n",
       "        vertical-align: top;\n",
       "    }\n",
       "\n",
       "    .dataframe thead th {\n",
       "        text-align: right;\n",
       "    }\n",
       "</style>\n",
       "<table border=\"1\" class=\"dataframe\">\n",
       "  <thead>\n",
       "    <tr style=\"text-align: right;\">\n",
       "      <th></th>\n",
       "      <th>Score</th>\n",
       "    </tr>\n",
       "    <tr>\n",
       "      <th>Feature Names</th>\n",
       "      <th></th>\n",
       "    </tr>\n",
       "  </thead>\n",
       "  <tbody>\n",
       "    <tr>\n",
       "      <th>lotarea</th>\n",
       "      <td>0.066246</td>\n",
       "    </tr>\n",
       "    <tr>\n",
       "      <th>bldgarea</th>\n",
       "      <td>0.018613</td>\n",
       "    </tr>\n",
       "    <tr>\n",
       "      <th>comarea</th>\n",
       "      <td>0.008365</td>\n",
       "    </tr>\n",
       "    <tr>\n",
       "      <th>resarea</th>\n",
       "      <td>0.042926</td>\n",
       "    </tr>\n",
       "    <tr>\n",
       "      <th>officearea</th>\n",
       "      <td>0.011700</td>\n",
       "    </tr>\n",
       "    <tr>\n",
       "      <th>retailarea</th>\n",
       "      <td>0.013452</td>\n",
       "    </tr>\n",
       "    <tr>\n",
       "      <th>numbldgs</th>\n",
       "      <td>0.005372</td>\n",
       "    </tr>\n",
       "    <tr>\n",
       "      <th>numfloors</th>\n",
       "      <td>0.005673</td>\n",
       "    </tr>\n",
       "    <tr>\n",
       "      <th>lotdepth</th>\n",
       "      <td>0.049708</td>\n",
       "    </tr>\n",
       "    <tr>\n",
       "      <th>bldgdepth</th>\n",
       "      <td>0.012250</td>\n",
       "    </tr>\n",
       "    <tr>\n",
       "      <th>builtfar</th>\n",
       "      <td>0.036032</td>\n",
       "    </tr>\n",
       "    <tr>\n",
       "      <th>residfar</th>\n",
       "      <td>0.006994</td>\n",
       "    </tr>\n",
       "    <tr>\n",
       "      <th>commfar</th>\n",
       "      <td>0.005256</td>\n",
       "    </tr>\n",
       "    <tr>\n",
       "      <th>facilfar</th>\n",
       "      <td>0.027502</td>\n",
       "    </tr>\n",
       "    <tr>\n",
       "      <th>years</th>\n",
       "      <td>0.022168</td>\n",
       "    </tr>\n",
       "    <tr>\n",
       "      <th>status</th>\n",
       "      <td>0.667744</td>\n",
       "    </tr>\n",
       "  </tbody>\n",
       "</table>\n",
       "</div>"
      ],
      "text/plain": [
       "                  Score\n",
       "Feature Names          \n",
       "lotarea        0.066246\n",
       "bldgarea       0.018613\n",
       "comarea        0.008365\n",
       "resarea        0.042926\n",
       "officearea     0.011700\n",
       "retailarea     0.013452\n",
       "numbldgs       0.005372\n",
       "numfloors      0.005673\n",
       "lotdepth       0.049708\n",
       "bldgdepth      0.012250\n",
       "builtfar       0.036032\n",
       "residfar       0.006994\n",
       "commfar        0.005256\n",
       "facilfar       0.027502\n",
       "years          0.022168\n",
       "status         0.667744"
      ]
     },
     "execution_count": 45,
     "metadata": {},
     "output_type": "execute_result"
    }
   ],
   "source": [
    "featimpt.set_index('Feature Names')"
   ]
  },
  {
   "cell_type": "code",
   "execution_count": 46,
   "metadata": {},
   "outputs": [],
   "source": [
    "df = featimpt.set_index('Feature Names')"
   ]
  },
  {
   "cell_type": "code",
   "execution_count": 47,
   "metadata": {},
   "outputs": [
    {
     "data": {
      "image/png": "[encoded data removed]",
      "text/plain": [
       "<Figure size 576x396 with 1 Axes>"
      ]
     },
     "metadata": {},
     "output_type": "display_data"
    }
   ],
   "source": [
    "df.plot(kind='barh',title=\"Feature Importance\", legend=True)\n",
    "plt.show()"
   ]
  },
  {
   "cell_type": "markdown",
   "metadata": {},
   "source": [
    "### Tips to improve better results\n",
    "- Use more data to train (500000 to 800000 samples)\n",
    "- Perform feature engineering to create new columns\n",
    "- Model tuning using hyperparameter tuning\n",
    "- Use more powerful algorithms like XGBoost"
   ]
  },
  {
   "cell_type": "code",
   "execution_count": null,
   "metadata": {},
   "outputs": [],
   "source": []
  }
 ],
 "metadata": {
  "kernelspec": {
   "display_name": "Python 3",
   "language": "python",
   "name": "python3"
  },
  "language_info": {
   "codemirror_mode": {
    "name": "ipython",
    "version": 3
   },
   "file_extension": ".py",
   "mimetype": "text/x-python",
   "name": "python",
   "nbconvert_exporter": "python",
   "pygments_lexer": "ipython3",
   "version": "3.7.6"
  }
 },
 "nbformat": 4,
 "nbformat_minor": 4
}
