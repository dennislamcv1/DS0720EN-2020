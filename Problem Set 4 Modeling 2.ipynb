{
 "cells": [
  {
   "cell_type": "markdown",
   "metadata": {},
   "source": [
    "## This is MultiClass Classifcation"
   ]
  },
  {
   "cell_type": "code",
   "execution_count": 1,
   "metadata": {},
   "outputs": [],
   "source": [
    "import numpy as np\n",
    "import pandas as pd\n",
    "import matplotlib.pyplot as plt\n",
    "import seaborn as sns\n",
    "\n",
    "%matplotlib inline\n",
    "sns.set(font_scale=1.1)\n",
    "np.random.seed(5)\n",
    "\n",
    "pd.set_option(\"display.max_rows\",10000)\n",
    "pd.set_option(\"display.max_columns\",100)\n",
    "\n",
    "import pandas_profiling as pp\n",
    "import warnings\n",
    "warnings.filterwarnings('ignore')\n",
    "\n",
    "from sklearn.model_selection import train_test_split, cross_val_score, GridSearchCV\n",
    "from sklearn.preprocessing import StandardScaler\n",
    "\n",
    "from sklearn.neighbors import KNeighborsClassifier\n",
    "from sklearn.ensemble import RandomForestClassifier\n",
    "from sklearn.ensemble import GradientBoostingClassifier\n",
    "\n",
    "from sklearn.metrics import classification_report, confusion_matrix, plot_confusion_matrix, plot_roc_curve"
   ]
  },
  {
   "cell_type": "code",
   "execution_count": 2,
   "metadata": {},
   "outputs": [],
   "source": [
    "df = pd.read_csv(\"train2processed.csv\")"
   ]
  },
  {
   "cell_type": "code",
   "execution_count": 3,
   "metadata": {},
   "outputs": [
    {
     "data": {
      "text/html": [
       "<div>\n",
       "<style scoped>\n",
       "    .dataframe tbody tr th:only-of-type {\n",
       "        vertical-align: middle;\n",
       "    }\n",
       "\n",
       "    .dataframe tbody tr th {\n",
       "        vertical-align: top;\n",
       "    }\n",
       "\n",
       "    .dataframe thead th {\n",
       "        text-align: right;\n",
       "    }\n",
       "</style>\n",
       "<table border=\"1\" class=\"dataframe\">\n",
       "  <thead>\n",
       "    <tr style=\"text-align: right;\">\n",
       "      <th></th>\n",
       "      <th>lotarea</th>\n",
       "      <th>bldgarea</th>\n",
       "      <th>comarea</th>\n",
       "      <th>resarea</th>\n",
       "      <th>officearea</th>\n",
       "      <th>retailarea</th>\n",
       "      <th>numbldgs</th>\n",
       "      <th>numfloors</th>\n",
       "      <th>lotdepth</th>\n",
       "      <th>bldgdepth</th>\n",
       "      <th>builtfar</th>\n",
       "      <th>residfar</th>\n",
       "      <th>commfar</th>\n",
       "      <th>facilfar</th>\n",
       "      <th>year</th>\n",
       "      <th>status</th>\n",
       "      <th>complaint</th>\n",
       "    </tr>\n",
       "  </thead>\n",
       "  <tbody>\n",
       "    <tr>\n",
       "      <th>0</th>\n",
       "      <td>-0.036657</td>\n",
       "      <td>-0.055187</td>\n",
       "      <td>-0.110647</td>\n",
       "      <td>-0.039697</td>\n",
       "      <td>-0.049903</td>\n",
       "      <td>-0.067432</td>\n",
       "      <td>-0.113512</td>\n",
       "      <td>-0.332739</td>\n",
       "      <td>-0.092421</td>\n",
       "      <td>0.453600</td>\n",
       "      <td>0.080183</td>\n",
       "      <td>-0.299943</td>\n",
       "      <td>-0.221227</td>\n",
       "      <td>-0.561682</td>\n",
       "      <td>0.576793</td>\n",
       "      <td>0</td>\n",
       "      <td>11</td>\n",
       "    </tr>\n",
       "    <tr>\n",
       "      <th>1</th>\n",
       "      <td>-0.028851</td>\n",
       "      <td>-0.063915</td>\n",
       "      <td>-0.110647</td>\n",
       "      <td>-0.051555</td>\n",
       "      <td>-0.049903</td>\n",
       "      <td>-0.067432</td>\n",
       "      <td>-0.113512</td>\n",
       "      <td>-1.013496</td>\n",
       "      <td>-0.092421</td>\n",
       "      <td>-0.772484</td>\n",
       "      <td>-0.636941</td>\n",
       "      <td>-0.665364</td>\n",
       "      <td>-0.221227</td>\n",
       "      <td>-0.561682</td>\n",
       "      <td>0.082540</td>\n",
       "      <td>0</td>\n",
       "      <td>6</td>\n",
       "    </tr>\n",
       "    <tr>\n",
       "      <th>2</th>\n",
       "      <td>-0.039881</td>\n",
       "      <td>-0.062592</td>\n",
       "      <td>-0.110647</td>\n",
       "      <td>-0.047376</td>\n",
       "      <td>-0.049903</td>\n",
       "      <td>-0.067432</td>\n",
       "      <td>-0.113512</td>\n",
       "      <td>-0.332739</td>\n",
       "      <td>-0.006369</td>\n",
       "      <td>-0.176010</td>\n",
       "      <td>0.201256</td>\n",
       "      <td>1.300603</td>\n",
       "      <td>-0.221227</td>\n",
       "      <td>1.191979</td>\n",
       "      <td>0.741544</td>\n",
       "      <td>0</td>\n",
       "      <td>4</td>\n",
       "    </tr>\n",
       "    <tr>\n",
       "      <th>3</th>\n",
       "      <td>-0.036719</td>\n",
       "      <td>-0.061673</td>\n",
       "      <td>-0.110647</td>\n",
       "      <td>-0.044840</td>\n",
       "      <td>-0.049903</td>\n",
       "      <td>-0.067432</td>\n",
       "      <td>-0.113512</td>\n",
       "      <td>-0.332739</td>\n",
       "      <td>0.086911</td>\n",
       "      <td>-0.341697</td>\n",
       "      <td>-0.171276</td>\n",
       "      <td>-0.848075</td>\n",
       "      <td>-0.221227</td>\n",
       "      <td>-1.187990</td>\n",
       "      <td>0.412042</td>\n",
       "      <td>0</td>\n",
       "      <td>4</td>\n",
       "    </tr>\n",
       "    <tr>\n",
       "      <th>4</th>\n",
       "      <td>-0.037895</td>\n",
       "      <td>-0.059266</td>\n",
       "      <td>-0.110647</td>\n",
       "      <td>-0.044492</td>\n",
       "      <td>-0.049903</td>\n",
       "      <td>-0.067432</td>\n",
       "      <td>0.276888</td>\n",
       "      <td>-0.332739</td>\n",
       "      <td>-0.092421</td>\n",
       "      <td>0.089089</td>\n",
       "      <td>0.061557</td>\n",
       "      <td>1.300603</td>\n",
       "      <td>-0.221227</td>\n",
       "      <td>1.191979</td>\n",
       "      <td>0.576793</td>\n",
       "      <td>0</td>\n",
       "      <td>1</td>\n",
       "    </tr>\n",
       "  </tbody>\n",
       "</table>\n",
       "</div>"
      ],
      "text/plain": [
       "    lotarea  bldgarea   comarea   resarea  officearea  retailarea  numbldgs  \\\n",
       "0 -0.036657 -0.055187 -0.110647 -0.039697   -0.049903   -0.067432 -0.113512   \n",
       "1 -0.028851 -0.063915 -0.110647 -0.051555   -0.049903   -0.067432 -0.113512   \n",
       "2 -0.039881 -0.062592 -0.110647 -0.047376   -0.049903   -0.067432 -0.113512   \n",
       "3 -0.036719 -0.061673 -0.110647 -0.044840   -0.049903   -0.067432 -0.113512   \n",
       "4 -0.037895 -0.059266 -0.110647 -0.044492   -0.049903   -0.067432  0.276888   \n",
       "\n",
       "   numfloors  lotdepth  bldgdepth  builtfar  residfar   commfar  facilfar  \\\n",
       "0  -0.332739 -0.092421   0.453600  0.080183 -0.299943 -0.221227 -0.561682   \n",
       "1  -1.013496 -0.092421  -0.772484 -0.636941 -0.665364 -0.221227 -0.561682   \n",
       "2  -0.332739 -0.006369  -0.176010  0.201256  1.300603 -0.221227  1.191979   \n",
       "3  -0.332739  0.086911  -0.341697 -0.171276 -0.848075 -0.221227 -1.187990   \n",
       "4  -0.332739 -0.092421   0.089089  0.061557  1.300603 -0.221227  1.191979   \n",
       "\n",
       "       year  status  complaint  \n",
       "0  0.576793       0         11  \n",
       "1  0.082540       0          6  \n",
       "2  0.741544       0          4  \n",
       "3  0.412042       0          4  \n",
       "4  0.576793       0          1  "
      ]
     },
     "execution_count": 3,
     "metadata": {},
     "output_type": "execute_result"
    }
   ],
   "source": [
    "df.head()"
   ]
  },
  {
   "cell_type": "code",
   "execution_count": 4,
   "metadata": {},
   "outputs": [
    {
     "data": {
      "text/plain": [
       "6     7236\n",
       "11    1896\n",
       "9      955\n",
       "8      936\n",
       "12     811\n",
       "1      696\n",
       "0      451\n",
       "5      448\n",
       "2      448\n",
       "4      332\n",
       "10     170\n",
       "3       24\n",
       "7       11\n",
       "Name: complaint, dtype: int64"
      ]
     },
     "execution_count": 4,
     "metadata": {},
     "output_type": "execute_result"
    }
   ],
   "source": [
    "df['complaint'].value_counts()"
   ]
  },
  {
   "cell_type": "markdown",
   "metadata": {},
   "source": [
    "### Split data for training"
   ]
  },
  {
   "cell_type": "code",
   "execution_count": 5,
   "metadata": {},
   "outputs": [],
   "source": [
    "X = df.iloc[:,0:16]\n",
    "y = df.iloc[:,16]"
   ]
  },
  {
   "cell_type": "code",
   "execution_count": 6,
   "metadata": {},
   "outputs": [
    {
     "data": {
      "text/plain": [
       "((14414, 16), (14414,))"
      ]
     },
     "execution_count": 6,
     "metadata": {},
     "output_type": "execute_result"
    }
   ],
   "source": [
    "X.shape, y.shape"
   ]
  },
  {
   "cell_type": "code",
   "execution_count": 7,
   "metadata": {},
   "outputs": [
    {
     "data": {
      "text/html": [
       "<div>\n",
       "<style scoped>\n",
       "    .dataframe tbody tr th:only-of-type {\n",
       "        vertical-align: middle;\n",
       "    }\n",
       "\n",
       "    .dataframe tbody tr th {\n",
       "        vertical-align: top;\n",
       "    }\n",
       "\n",
       "    .dataframe thead th {\n",
       "        text-align: right;\n",
       "    }\n",
       "</style>\n",
       "<table border=\"1\" class=\"dataframe\">\n",
       "  <thead>\n",
       "    <tr style=\"text-align: right;\">\n",
       "      <th></th>\n",
       "      <th>lotarea</th>\n",
       "      <th>bldgarea</th>\n",
       "      <th>comarea</th>\n",
       "      <th>resarea</th>\n",
       "      <th>officearea</th>\n",
       "      <th>retailarea</th>\n",
       "      <th>numbldgs</th>\n",
       "      <th>numfloors</th>\n",
       "      <th>lotdepth</th>\n",
       "      <th>bldgdepth</th>\n",
       "      <th>builtfar</th>\n",
       "      <th>residfar</th>\n",
       "      <th>commfar</th>\n",
       "      <th>facilfar</th>\n",
       "      <th>year</th>\n",
       "      <th>status</th>\n",
       "    </tr>\n",
       "  </thead>\n",
       "  <tbody>\n",
       "    <tr>\n",
       "      <th>0</th>\n",
       "      <td>-0.036657</td>\n",
       "      <td>-0.055187</td>\n",
       "      <td>-0.110647</td>\n",
       "      <td>-0.039697</td>\n",
       "      <td>-0.049903</td>\n",
       "      <td>-0.067432</td>\n",
       "      <td>-0.113512</td>\n",
       "      <td>-0.332739</td>\n",
       "      <td>-0.092421</td>\n",
       "      <td>0.453600</td>\n",
       "      <td>0.080183</td>\n",
       "      <td>-0.299943</td>\n",
       "      <td>-0.221227</td>\n",
       "      <td>-0.561682</td>\n",
       "      <td>0.576793</td>\n",
       "      <td>0</td>\n",
       "    </tr>\n",
       "    <tr>\n",
       "      <th>1</th>\n",
       "      <td>-0.028851</td>\n",
       "      <td>-0.063915</td>\n",
       "      <td>-0.110647</td>\n",
       "      <td>-0.051555</td>\n",
       "      <td>-0.049903</td>\n",
       "      <td>-0.067432</td>\n",
       "      <td>-0.113512</td>\n",
       "      <td>-1.013496</td>\n",
       "      <td>-0.092421</td>\n",
       "      <td>-0.772484</td>\n",
       "      <td>-0.636941</td>\n",
       "      <td>-0.665364</td>\n",
       "      <td>-0.221227</td>\n",
       "      <td>-0.561682</td>\n",
       "      <td>0.082540</td>\n",
       "      <td>0</td>\n",
       "    </tr>\n",
       "    <tr>\n",
       "      <th>2</th>\n",
       "      <td>-0.039881</td>\n",
       "      <td>-0.062592</td>\n",
       "      <td>-0.110647</td>\n",
       "      <td>-0.047376</td>\n",
       "      <td>-0.049903</td>\n",
       "      <td>-0.067432</td>\n",
       "      <td>-0.113512</td>\n",
       "      <td>-0.332739</td>\n",
       "      <td>-0.006369</td>\n",
       "      <td>-0.176010</td>\n",
       "      <td>0.201256</td>\n",
       "      <td>1.300603</td>\n",
       "      <td>-0.221227</td>\n",
       "      <td>1.191979</td>\n",
       "      <td>0.741544</td>\n",
       "      <td>0</td>\n",
       "    </tr>\n",
       "    <tr>\n",
       "      <th>3</th>\n",
       "      <td>-0.036719</td>\n",
       "      <td>-0.061673</td>\n",
       "      <td>-0.110647</td>\n",
       "      <td>-0.044840</td>\n",
       "      <td>-0.049903</td>\n",
       "      <td>-0.067432</td>\n",
       "      <td>-0.113512</td>\n",
       "      <td>-0.332739</td>\n",
       "      <td>0.086911</td>\n",
       "      <td>-0.341697</td>\n",
       "      <td>-0.171276</td>\n",
       "      <td>-0.848075</td>\n",
       "      <td>-0.221227</td>\n",
       "      <td>-1.187990</td>\n",
       "      <td>0.412042</td>\n",
       "      <td>0</td>\n",
       "    </tr>\n",
       "    <tr>\n",
       "      <th>4</th>\n",
       "      <td>-0.037895</td>\n",
       "      <td>-0.059266</td>\n",
       "      <td>-0.110647</td>\n",
       "      <td>-0.044492</td>\n",
       "      <td>-0.049903</td>\n",
       "      <td>-0.067432</td>\n",
       "      <td>0.276888</td>\n",
       "      <td>-0.332739</td>\n",
       "      <td>-0.092421</td>\n",
       "      <td>0.089089</td>\n",
       "      <td>0.061557</td>\n",
       "      <td>1.300603</td>\n",
       "      <td>-0.221227</td>\n",
       "      <td>1.191979</td>\n",
       "      <td>0.576793</td>\n",
       "      <td>0</td>\n",
       "    </tr>\n",
       "  </tbody>\n",
       "</table>\n",
       "</div>"
      ],
      "text/plain": [
       "    lotarea  bldgarea   comarea   resarea  officearea  retailarea  numbldgs  \\\n",
       "0 -0.036657 -0.055187 -0.110647 -0.039697   -0.049903   -0.067432 -0.113512   \n",
       "1 -0.028851 -0.063915 -0.110647 -0.051555   -0.049903   -0.067432 -0.113512   \n",
       "2 -0.039881 -0.062592 -0.110647 -0.047376   -0.049903   -0.067432 -0.113512   \n",
       "3 -0.036719 -0.061673 -0.110647 -0.044840   -0.049903   -0.067432 -0.113512   \n",
       "4 -0.037895 -0.059266 -0.110647 -0.044492   -0.049903   -0.067432  0.276888   \n",
       "\n",
       "   numfloors  lotdepth  bldgdepth  builtfar  residfar   commfar  facilfar  \\\n",
       "0  -0.332739 -0.092421   0.453600  0.080183 -0.299943 -0.221227 -0.561682   \n",
       "1  -1.013496 -0.092421  -0.772484 -0.636941 -0.665364 -0.221227 -0.561682   \n",
       "2  -0.332739 -0.006369  -0.176010  0.201256  1.300603 -0.221227  1.191979   \n",
       "3  -0.332739  0.086911  -0.341697 -0.171276 -0.848075 -0.221227 -1.187990   \n",
       "4  -0.332739 -0.092421   0.089089  0.061557  1.300603 -0.221227  1.191979   \n",
       "\n",
       "       year  status  \n",
       "0  0.576793       0  \n",
       "1  0.082540       0  \n",
       "2  0.741544       0  \n",
       "3  0.412042       0  \n",
       "4  0.576793       0  "
      ]
     },
     "execution_count": 7,
     "metadata": {},
     "output_type": "execute_result"
    }
   ],
   "source": [
    "X.head()"
   ]
  },
  {
   "cell_type": "code",
   "execution_count": 8,
   "metadata": {},
   "outputs": [
    {
     "data": {
      "text/plain": [
       "0    11\n",
       "1     6\n",
       "2     4\n",
       "3     4\n",
       "4     1\n",
       "Name: complaint, dtype: int64"
      ]
     },
     "execution_count": 8,
     "metadata": {},
     "output_type": "execute_result"
    }
   ],
   "source": [
    "y.head()"
   ]
  },
  {
   "cell_type": "code",
   "execution_count": 9,
   "metadata": {},
   "outputs": [
    {
     "data": {
      "text/plain": [
       "(array([[-0.03665733, -0.05518743, -0.11064659, ..., -0.56168241,\n",
       "          0.57679284,  0.        ],\n",
       "        [-0.02885072, -0.06391538, -0.11064659, ..., -0.56168241,\n",
       "          0.08254006,  0.        ],\n",
       "        [-0.03988054, -0.06259171, -0.11064659, ...,  1.19197883,\n",
       "          0.74154377,  0.        ],\n",
       "        ...,\n",
       "        [-0.03275764, -0.06474268, -0.11064659, ..., -0.56168241,\n",
       "          0.74154377,  0.        ],\n",
       "        [ 0.03345022,  0.28149646,  1.57594367, ...,  2.25670173,\n",
       "          0.47794228,  0.        ],\n",
       "        [-0.03771727, -0.07475294, -0.11064659, ..., -0.56168241,\n",
       "          0.41204191,  1.        ]]),\n",
       " array([11,  6,  4, ...,  4,  6,  0], dtype=int64))"
      ]
     },
     "execution_count": 9,
     "metadata": {},
     "output_type": "execute_result"
    }
   ],
   "source": [
    "X.values, y.values"
   ]
  },
  {
   "cell_type": "code",
   "execution_count": 10,
   "metadata": {},
   "outputs": [],
   "source": [
    "X_train, X_test, y_train, y_test = train_test_split(X, y, test_size=0.2, stratify=y)"
   ]
  },
  {
   "cell_type": "code",
   "execution_count": 11,
   "metadata": {},
   "outputs": [
    {
     "data": {
      "text/plain": [
       "((11531, 16), (2883, 16))"
      ]
     },
     "execution_count": 11,
     "metadata": {},
     "output_type": "execute_result"
    }
   ],
   "source": [
    "X_train.shape, X_test.shape"
   ]
  },
  {
   "cell_type": "markdown",
   "metadata": {},
   "source": [
    "### Model 1: KNN Classifier"
   ]
  },
  {
   "cell_type": "code",
   "execution_count": 12,
   "metadata": {},
   "outputs": [],
   "source": [
    "neigh = KNeighborsClassifier()"
   ]
  },
  {
   "cell_type": "code",
   "execution_count": 13,
   "metadata": {},
   "outputs": [
    {
     "data": {
      "text/plain": [
       "KNeighborsClassifier(algorithm='auto', leaf_size=30, metric='minkowski',\n",
       "                     metric_params=None, n_jobs=None, n_neighbors=5, p=2,\n",
       "                     weights='uniform')"
      ]
     },
     "execution_count": 13,
     "metadata": {},
     "output_type": "execute_result"
    }
   ],
   "source": [
    "neigh.fit(X_train,y_train)"
   ]
  },
  {
   "cell_type": "code",
   "execution_count": 14,
   "metadata": {},
   "outputs": [],
   "source": [
    "ypred = neigh.predict(X_test)"
   ]
  },
  {
   "cell_type": "code",
   "execution_count": 15,
   "metadata": {},
   "outputs": [
    {
     "data": {
      "text/plain": [
       "array([ 6,  6, 12, ...,  6,  6,  6], dtype=int64)"
      ]
     },
     "execution_count": 15,
     "metadata": {},
     "output_type": "execute_result"
    }
   ],
   "source": [
    "ypred"
   ]
  },
  {
   "cell_type": "code",
   "execution_count": 16,
   "metadata": {},
   "outputs": [
    {
     "name": "stdout",
     "output_type": "stream",
     "text": [
      "              precision    recall  f1-score   support\n",
      "\n",
      "           0       0.00      0.00      0.00        90\n",
      "           1       0.06      0.06      0.06       139\n",
      "           2       0.05      0.02      0.03        90\n",
      "           3       0.00      0.00      0.00         5\n",
      "           4       0.00      0.00      0.00        67\n",
      "           5       0.03      0.01      0.02        90\n",
      "           6       0.54      0.81      0.65      1447\n",
      "           7       0.00      0.00      0.00         2\n",
      "           8       0.03      0.01      0.02       187\n",
      "           9       0.09      0.03      0.04       191\n",
      "          10       0.00      0.00      0.00        34\n",
      "          11       0.15      0.09      0.11       379\n",
      "          12       0.00      0.00      0.00       162\n",
      "\n",
      "    accuracy                           0.43      2883\n",
      "   macro avg       0.07      0.08      0.07      2883\n",
      "weighted avg       0.31      0.43      0.35      2883\n",
      "\n"
     ]
    }
   ],
   "source": [
    "print(classification_report(y_test,ypred))"
   ]
  },
  {
   "cell_type": "code",
   "execution_count": 17,
   "metadata": {},
   "outputs": [
    {
     "data": {
      "text/plain": [
       "array([[   0,    5,    2,    0,    0,    5,   65,    0,    3,    2,    0,\n",
       "           7,    1],\n",
       "       [   2,    8,    6,    0,    3,    1,   90,    0,    5,    5,    0,\n",
       "          15,    4],\n",
       "       [   5,    4,    2,    0,    1,    5,   61,    0,    3,    3,    1,\n",
       "           5,    0],\n",
       "       [   2,    0,    0,    0,    0,    0,    1,    0,    0,    0,    0,\n",
       "           2,    0],\n",
       "       [   1,    2,    1,    0,    0,    2,   47,    0,    2,    5,    0,\n",
       "           5,    2],\n",
       "       [   6,    6,    3,    0,    0,    1,   56,    0,    3,    1,    0,\n",
       "          14,    0],\n",
       "       [  33,   42,   13,    2,   12,   12, 1179,    0,   24,   18,    1,\n",
       "          89,   22],\n",
       "       [   0,    0,    0,    0,    0,    0,    1,    0,    0,    1,    0,\n",
       "           0,    0],\n",
       "       [   9,    4,    4,    0,    0,    2,  139,    0,    2,    3,    0,\n",
       "          20,    4],\n",
       "       [  11,    9,    1,    0,    1,    1,  135,    0,    2,    5,    0,\n",
       "          23,    3],\n",
       "       [   1,    3,    0,    0,    0,    1,   25,    0,    0,    3,    0,\n",
       "           1,    0],\n",
       "       [  15,   29,    6,    0,    7,    1,  263,    0,   10,    4,    0,\n",
       "          34,   10],\n",
       "       [   4,   14,    3,    0,    2,    4,  108,    0,    7,    5,    0,\n",
       "          15,    0]], dtype=int64)"
      ]
     },
     "execution_count": 17,
     "metadata": {},
     "output_type": "execute_result"
    }
   ],
   "source": [
    "cm = confusion_matrix(y_test,ypred)\n",
    "cm"
   ]
  },
  {
   "cell_type": "code",
   "execution_count": 18,
   "metadata": {},
   "outputs": [
    {
     "data": {
      "image/png": "[encoded data removed]",
      "text/plain": [
       "<Figure size 576x396 with 2 Axes>"
      ]
     },
     "metadata": {},
     "output_type": "display_data"
    }
   ],
   "source": [
    "plot_confusion_matrix(neigh,X_test,y_test,values_format='.8g',cmap=\"Blues_r\")\n",
    "plt.show()"
   ]
  },
  {
   "cell_type": "markdown",
   "metadata": {},
   "source": [
    "### Use Random Forest"
   ]
  },
  {
   "cell_type": "code",
   "execution_count": 19,
   "metadata": {},
   "outputs": [],
   "source": [
    "rf = RandomForestClassifier()"
   ]
  },
  {
   "cell_type": "code",
   "execution_count": 20,
   "metadata": {},
   "outputs": [
    {
     "data": {
      "text/plain": [
       "RandomForestClassifier(bootstrap=True, ccp_alpha=0.0, class_weight=None,\n",
       "                       criterion='gini', max_depth=None, max_features='auto',\n",
       "                       max_leaf_nodes=None, max_samples=None,\n",
       "                       min_impurity_decrease=0.0, min_impurity_split=None,\n",
       "                       min_samples_leaf=1, min_samples_split=2,\n",
       "                       min_weight_fraction_leaf=0.0, n_estimators=100,\n",
       "                       n_jobs=None, oob_score=False, random_state=None,\n",
       "                       verbose=0, warm_start=False)"
      ]
     },
     "execution_count": 20,
     "metadata": {},
     "output_type": "execute_result"
    }
   ],
   "source": [
    "rf.fit(X_train,y_train)"
   ]
  },
  {
   "cell_type": "code",
   "execution_count": 21,
   "metadata": {},
   "outputs": [],
   "source": [
    "ypred = rf.predict(X_test)"
   ]
  },
  {
   "cell_type": "code",
   "execution_count": 22,
   "metadata": {},
   "outputs": [
    {
     "data": {
      "text/plain": [
       "array([6, 6, 1, ..., 6, 6, 6], dtype=int64)"
      ]
     },
     "execution_count": 22,
     "metadata": {},
     "output_type": "execute_result"
    }
   ],
   "source": [
    "ypred"
   ]
  },
  {
   "cell_type": "code",
   "execution_count": 23,
   "metadata": {},
   "outputs": [
    {
     "name": "stdout",
     "output_type": "stream",
     "text": [
      "              precision    recall  f1-score   support\n",
      "\n",
      "           0       0.09      0.02      0.04        90\n",
      "           1       0.06      0.02      0.03       139\n",
      "           2       0.06      0.01      0.02        90\n",
      "           3       0.00      0.00      0.00         5\n",
      "           4       0.07      0.01      0.02        67\n",
      "           5       0.06      0.01      0.02        90\n",
      "           6       0.56      0.92      0.69      1447\n",
      "           7       0.00      0.00      0.00         2\n",
      "           8       0.06      0.02      0.03       187\n",
      "           9       0.10      0.03      0.05       191\n",
      "          10       0.00      0.00      0.00        34\n",
      "          11       0.16      0.09      0.12       379\n",
      "          12       0.10      0.03      0.05       162\n",
      "\n",
      "    accuracy                           0.48      2883\n",
      "   macro avg       0.10      0.09      0.08      2883\n",
      "weighted avg       0.33      0.48      0.38      2883\n",
      "\n"
     ]
    }
   ],
   "source": [
    "print(classification_report(y_test,ypred))"
   ]
  },
  {
   "cell_type": "code",
   "execution_count": 24,
   "metadata": {},
   "outputs": [
    {
     "data": {
      "text/plain": [
       "array([[   2,    1,    1,    0,    0,    1,   70,    0,    1,    2,    0,\n",
       "          10,    2],\n",
       "       [   1,    3,    1,    0,    2,    1,  100,    0,    5,    5,    0,\n",
       "          18,    3],\n",
       "       [   0,    3,    1,    0,    1,    1,   64,    0,    1,    4,    0,\n",
       "          12,    3],\n",
       "       [   0,    1,    0,    0,    0,    1,    1,    0,    0,    0,    0,\n",
       "           1,    1],\n",
       "       [   0,    1,    0,    0,    1,    1,   48,    0,    4,    3,    0,\n",
       "           8,    1],\n",
       "       [   3,    3,    2,    0,    0,    1,   59,    0,    2,    2,    0,\n",
       "          16,    2],\n",
       "       [   3,   10,    5,    0,    4,    4, 1333,    0,   21,   13,    1,\n",
       "          41,   12],\n",
       "       [   0,    0,    0,    0,    0,    0,    1,    0,    0,    0,    0,\n",
       "           1,    0],\n",
       "       [   2,    5,    1,    0,    1,    1,  147,    0,    3,    2,    0,\n",
       "          21,    4],\n",
       "       [   2,   10,    2,    0,    4,    0,  134,    0,    0,    6,    0,\n",
       "          23,   10],\n",
       "       [   0,    1,    0,    0,    0,    0,   26,    0,    1,    0,    0,\n",
       "           5,    1],\n",
       "       [   7,   13,    1,    0,    0,    4,  292,    0,    5,   15,    2,\n",
       "          34,    6],\n",
       "       [   3,    1,    2,    0,    1,    1,  118,    0,    5,    8,    0,\n",
       "          18,    5]], dtype=int64)"
      ]
     },
     "execution_count": 24,
     "metadata": {},
     "output_type": "execute_result"
    }
   ],
   "source": [
    "cm = confusion_matrix(y_test,ypred)\n",
    "cm"
   ]
  },
  {
   "cell_type": "code",
   "execution_count": 25,
   "metadata": {},
   "outputs": [
    {
     "data": {
      "image/png": "[encoded data removed]",
      "text/plain": [
       "<Figure size 576x396 with 2 Axes>"
      ]
     },
     "metadata": {},
     "output_type": "display_data"
    }
   ],
   "source": [
    "plot_confusion_matrix(rf,X_test,y_test,values_format='.4g',cmap=\"Blues_r\")\n",
    "plt.show()"
   ]
  },
  {
   "cell_type": "markdown",
   "metadata": {},
   "source": [
    "### Use Gradient Boosting"
   ]
  },
  {
   "cell_type": "code",
   "execution_count": 26,
   "metadata": {},
   "outputs": [],
   "source": [
    "gb = GradientBoostingClassifier()"
   ]
  },
  {
   "cell_type": "code",
   "execution_count": 27,
   "metadata": {},
   "outputs": [
    {
     "data": {
      "text/plain": [
       "GradientBoostingClassifier(ccp_alpha=0.0, criterion='friedman_mse', init=None,\n",
       "                           learning_rate=0.1, loss='deviance', max_depth=3,\n",
       "                           max_features=None, max_leaf_nodes=None,\n",
       "                           min_impurity_decrease=0.0, min_impurity_split=None,\n",
       "                           min_samples_leaf=1, min_samples_split=2,\n",
       "                           min_weight_fraction_leaf=0.0, n_estimators=100,\n",
       "                           n_iter_no_change=None, presort='deprecated',\n",
       "                           random_state=None, subsample=1.0, tol=0.0001,\n",
       "                           validation_fraction=0.1, verbose=0,\n",
       "                           warm_start=False)"
      ]
     },
     "execution_count": 27,
     "metadata": {},
     "output_type": "execute_result"
    }
   ],
   "source": [
    "gb.fit(X_train,y_train)"
   ]
  },
  {
   "cell_type": "code",
   "execution_count": 28,
   "metadata": {},
   "outputs": [],
   "source": [
    "ypred = gb.predict(X_test)"
   ]
  },
  {
   "cell_type": "code",
   "execution_count": 29,
   "metadata": {},
   "outputs": [
    {
     "data": {
      "text/plain": [
       "array([ 6,  6, 11, ...,  6,  6,  6], dtype=int64)"
      ]
     },
     "execution_count": 29,
     "metadata": {},
     "output_type": "execute_result"
    }
   ],
   "source": [
    "ypred"
   ]
  },
  {
   "cell_type": "code",
   "execution_count": 30,
   "metadata": {},
   "outputs": [
    {
     "name": "stdout",
     "output_type": "stream",
     "text": [
      "              precision    recall  f1-score   support\n",
      "\n",
      "           0       0.00      0.00      0.00        90\n",
      "           1       0.06      0.01      0.01       139\n",
      "           2       0.17      0.02      0.04        90\n",
      "           3       0.00      0.00      0.00         5\n",
      "           4       0.00      0.00      0.00        67\n",
      "           5       0.14      0.01      0.02        90\n",
      "           6       0.56      0.96      0.70      1447\n",
      "           7       0.00      0.00      0.00         2\n",
      "           8       0.00      0.00      0.00       187\n",
      "           9       0.00      0.00      0.00       191\n",
      "          10       0.00      0.00      0.00        34\n",
      "          11       0.20      0.15      0.17       379\n",
      "          12       0.00      0.00      0.00       162\n",
      "\n",
      "    accuracy                           0.50      2883\n",
      "   macro avg       0.09      0.09      0.07      2883\n",
      "weighted avg       0.32      0.50      0.38      2883\n",
      "\n"
     ]
    }
   ],
   "source": [
    "print(classification_report(y_test,ypred))"
   ]
  },
  {
   "cell_type": "code",
   "execution_count": 31,
   "metadata": {},
   "outputs": [
    {
     "data": {
      "text/plain": [
       "array([[   0,    1,    0,    1,    0,    0,   71,    0,    0,    1,    0,\n",
       "          16,    0],\n",
       "       [   1,    1,    1,    1,    0,    0,  101,    1,    3,    1,    0,\n",
       "          29,    0],\n",
       "       [   0,    1,    2,    0,    0,    2,   68,    0,    0,    2,    0,\n",
       "          14,    1],\n",
       "       [   0,    0,    0,    0,    0,    0,    2,    0,    0,    0,    0,\n",
       "           3,    0],\n",
       "       [   2,    0,    0,    1,    0,    0,   52,    0,    0,    0,    0,\n",
       "          12,    0],\n",
       "       [   0,    0,    0,    1,    0,    1,   62,    0,    0,    2,    1,\n",
       "          23,    0],\n",
       "       [   1,    3,    3,    1,    4,    3, 1384,    1,    3,    1,    8,\n",
       "          33,    2],\n",
       "       [   0,    0,    0,    0,    0,    0,    1,    0,    0,    0,    0,\n",
       "           1,    0],\n",
       "       [   0,    2,    1,    0,    0,    1,  157,    0,    0,    0,    2,\n",
       "          23,    1],\n",
       "       [   2,    1,    1,    0,    1,    0,  143,    0,    0,    0,    0,\n",
       "          42,    1],\n",
       "       [   0,    0,    0,    0,    0,    0,   28,    0,    0,    0,    0,\n",
       "           6,    0],\n",
       "       [   2,    7,    4,    0,    3,    0,  297,    0,    4,    2,    1,\n",
       "          58,    1],\n",
       "       [   0,    1,    0,    0,    0,    0,  126,    0,    0,    0,    1,\n",
       "          34,    0]], dtype=int64)"
      ]
     },
     "execution_count": 31,
     "metadata": {},
     "output_type": "execute_result"
    }
   ],
   "source": [
    "cm = confusion_matrix(y_test,ypred)\n",
    "cm"
   ]
  },
  {
   "cell_type": "code",
   "execution_count": 32,
   "metadata": {},
   "outputs": [
    {
     "data": {
      "image/png": "[encoded data removed]",
      "text/plain": [
       "<Figure size 576x396 with 2 Axes>"
      ]
     },
     "metadata": {},
     "output_type": "display_data"
    }
   ],
   "source": [
    "plot_confusion_matrix(gb,X_test,y_test,values_format='.4g',cmap=\"Blues_r\")\n",
    "plt.show()"
   ]
  },
  {
   "cell_type": "markdown",
   "metadata": {},
   "source": [
    "**Use Gradient Boosting as it can detect more Heat/Hot water issues**"
   ]
  },
  {
   "cell_type": "markdown",
   "metadata": {},
   "source": [
    "### Perform cross-validation"
   ]
  },
  {
   "cell_type": "code",
   "execution_count": 33,
   "metadata": {},
   "outputs": [],
   "source": [
    "gbcv = cross_val_score(gb,X,y,scoring='f1_weighted',cv=5)"
   ]
  },
  {
   "cell_type": "code",
   "execution_count": 34,
   "metadata": {},
   "outputs": [
    {
     "data": {
      "text/plain": [
       "array([0.38286622, 0.3744917 , 0.38113308, 0.38624939, 0.38510845])"
      ]
     },
     "execution_count": 34,
     "metadata": {},
     "output_type": "execute_result"
    }
   ],
   "source": [
    "gbcv"
   ]
  },
  {
   "cell_type": "code",
   "execution_count": 35,
   "metadata": {},
   "outputs": [
    {
     "data": {
      "text/plain": [
       "0.3819697681751885"
      ]
     },
     "execution_count": 35,
     "metadata": {},
     "output_type": "execute_result"
    }
   ],
   "source": [
    "gbcv.mean()"
   ]
  },
  {
   "cell_type": "markdown",
   "metadata": {},
   "source": [
    "### Find Feature Importances"
   ]
  },
  {
   "cell_type": "code",
   "execution_count": 36,
   "metadata": {},
   "outputs": [
    {
     "data": {
      "text/plain": [
       "array([0.10984976, 0.0874858 , 0.02747834, 0.0568786 , 0.01519838,\n",
       "       0.02906877, 0.01362939, 0.01722954, 0.08957186, 0.06043816,\n",
       "       0.07101922, 0.01894632, 0.00886295, 0.01374074, 0.04975984,\n",
       "       0.33084232])"
      ]
     },
     "execution_count": 36,
     "metadata": {},
     "output_type": "execute_result"
    }
   ],
   "source": [
    "features = gb.feature_importances_\n",
    "features"
   ]
  },
  {
   "cell_type": "code",
   "execution_count": 37,
   "metadata": {},
   "outputs": [],
   "source": [
    "featuresdf = pd.DataFrame(features, columns=[\"Score\"])"
   ]
  },
  {
   "cell_type": "code",
   "execution_count": 38,
   "metadata": {},
   "outputs": [
    {
     "data": {
      "text/html": [
       "<div>\n",
       "<style scoped>\n",
       "    .dataframe tbody tr th:only-of-type {\n",
       "        vertical-align: middle;\n",
       "    }\n",
       "\n",
       "    .dataframe tbody tr th {\n",
       "        vertical-align: top;\n",
       "    }\n",
       "\n",
       "    .dataframe thead th {\n",
       "        text-align: right;\n",
       "    }\n",
       "</style>\n",
       "<table border=\"1\" class=\"dataframe\">\n",
       "  <thead>\n",
       "    <tr style=\"text-align: right;\">\n",
       "      <th></th>\n",
       "      <th>Score</th>\n",
       "    </tr>\n",
       "  </thead>\n",
       "  <tbody>\n",
       "    <tr>\n",
       "      <th>0</th>\n",
       "      <td>0.109850</td>\n",
       "    </tr>\n",
       "    <tr>\n",
       "      <th>1</th>\n",
       "      <td>0.087486</td>\n",
       "    </tr>\n",
       "    <tr>\n",
       "      <th>2</th>\n",
       "      <td>0.027478</td>\n",
       "    </tr>\n",
       "    <tr>\n",
       "      <th>3</th>\n",
       "      <td>0.056879</td>\n",
       "    </tr>\n",
       "    <tr>\n",
       "      <th>4</th>\n",
       "      <td>0.015198</td>\n",
       "    </tr>\n",
       "    <tr>\n",
       "      <th>5</th>\n",
       "      <td>0.029069</td>\n",
       "    </tr>\n",
       "    <tr>\n",
       "      <th>6</th>\n",
       "      <td>0.013629</td>\n",
       "    </tr>\n",
       "    <tr>\n",
       "      <th>7</th>\n",
       "      <td>0.017230</td>\n",
       "    </tr>\n",
       "    <tr>\n",
       "      <th>8</th>\n",
       "      <td>0.089572</td>\n",
       "    </tr>\n",
       "    <tr>\n",
       "      <th>9</th>\n",
       "      <td>0.060438</td>\n",
       "    </tr>\n",
       "    <tr>\n",
       "      <th>10</th>\n",
       "      <td>0.071019</td>\n",
       "    </tr>\n",
       "    <tr>\n",
       "      <th>11</th>\n",
       "      <td>0.018946</td>\n",
       "    </tr>\n",
       "    <tr>\n",
       "      <th>12</th>\n",
       "      <td>0.008863</td>\n",
       "    </tr>\n",
       "    <tr>\n",
       "      <th>13</th>\n",
       "      <td>0.013741</td>\n",
       "    </tr>\n",
       "    <tr>\n",
       "      <th>14</th>\n",
       "      <td>0.049760</td>\n",
       "    </tr>\n",
       "    <tr>\n",
       "      <th>15</th>\n",
       "      <td>0.330842</td>\n",
       "    </tr>\n",
       "  </tbody>\n",
       "</table>\n",
       "</div>"
      ],
      "text/plain": [
       "       Score\n",
       "0   0.109850\n",
       "1   0.087486\n",
       "2   0.027478\n",
       "3   0.056879\n",
       "4   0.015198\n",
       "5   0.029069\n",
       "6   0.013629\n",
       "7   0.017230\n",
       "8   0.089572\n",
       "9   0.060438\n",
       "10  0.071019\n",
       "11  0.018946\n",
       "12  0.008863\n",
       "13  0.013741\n",
       "14  0.049760\n",
       "15  0.330842"
      ]
     },
     "execution_count": 38,
     "metadata": {},
     "output_type": "execute_result"
    }
   ],
   "source": [
    "featuresdf"
   ]
  },
  {
   "cell_type": "code",
   "execution_count": 39,
   "metadata": {},
   "outputs": [],
   "source": [
    "Xcols = pd.DataFrame(X.columns,columns=['Feature Names'])"
   ]
  },
  {
   "cell_type": "code",
   "execution_count": 40,
   "metadata": {},
   "outputs": [
    {
     "data": {
      "text/html": [
       "<div>\n",
       "<style scoped>\n",
       "    .dataframe tbody tr th:only-of-type {\n",
       "        vertical-align: middle;\n",
       "    }\n",
       "\n",
       "    .dataframe tbody tr th {\n",
       "        vertical-align: top;\n",
       "    }\n",
       "\n",
       "    .dataframe thead th {\n",
       "        text-align: right;\n",
       "    }\n",
       "</style>\n",
       "<table border=\"1\" class=\"dataframe\">\n",
       "  <thead>\n",
       "    <tr style=\"text-align: right;\">\n",
       "      <th></th>\n",
       "      <th>Feature Names</th>\n",
       "    </tr>\n",
       "  </thead>\n",
       "  <tbody>\n",
       "    <tr>\n",
       "      <th>0</th>\n",
       "      <td>lotarea</td>\n",
       "    </tr>\n",
       "    <tr>\n",
       "      <th>1</th>\n",
       "      <td>bldgarea</td>\n",
       "    </tr>\n",
       "    <tr>\n",
       "      <th>2</th>\n",
       "      <td>comarea</td>\n",
       "    </tr>\n",
       "    <tr>\n",
       "      <th>3</th>\n",
       "      <td>resarea</td>\n",
       "    </tr>\n",
       "    <tr>\n",
       "      <th>4</th>\n",
       "      <td>officearea</td>\n",
       "    </tr>\n",
       "    <tr>\n",
       "      <th>5</th>\n",
       "      <td>retailarea</td>\n",
       "    </tr>\n",
       "    <tr>\n",
       "      <th>6</th>\n",
       "      <td>numbldgs</td>\n",
       "    </tr>\n",
       "    <tr>\n",
       "      <th>7</th>\n",
       "      <td>numfloors</td>\n",
       "    </tr>\n",
       "    <tr>\n",
       "      <th>8</th>\n",
       "      <td>lotdepth</td>\n",
       "    </tr>\n",
       "    <tr>\n",
       "      <th>9</th>\n",
       "      <td>bldgdepth</td>\n",
       "    </tr>\n",
       "    <tr>\n",
       "      <th>10</th>\n",
       "      <td>builtfar</td>\n",
       "    </tr>\n",
       "    <tr>\n",
       "      <th>11</th>\n",
       "      <td>residfar</td>\n",
       "    </tr>\n",
       "    <tr>\n",
       "      <th>12</th>\n",
       "      <td>commfar</td>\n",
       "    </tr>\n",
       "    <tr>\n",
       "      <th>13</th>\n",
       "      <td>facilfar</td>\n",
       "    </tr>\n",
       "    <tr>\n",
       "      <th>14</th>\n",
       "      <td>year</td>\n",
       "    </tr>\n",
       "    <tr>\n",
       "      <th>15</th>\n",
       "      <td>status</td>\n",
       "    </tr>\n",
       "  </tbody>\n",
       "</table>\n",
       "</div>"
      ],
      "text/plain": [
       "   Feature Names\n",
       "0        lotarea\n",
       "1       bldgarea\n",
       "2        comarea\n",
       "3        resarea\n",
       "4     officearea\n",
       "5     retailarea\n",
       "6       numbldgs\n",
       "7      numfloors\n",
       "8       lotdepth\n",
       "9      bldgdepth\n",
       "10      builtfar\n",
       "11      residfar\n",
       "12       commfar\n",
       "13      facilfar\n",
       "14          year\n",
       "15        status"
      ]
     },
     "execution_count": 40,
     "metadata": {},
     "output_type": "execute_result"
    }
   ],
   "source": [
    "Xcols"
   ]
  },
  {
   "cell_type": "code",
   "execution_count": 41,
   "metadata": {},
   "outputs": [],
   "source": [
    "featimpt = pd.concat([Xcols,featuresdf],axis=1)"
   ]
  },
  {
   "cell_type": "code",
   "execution_count": 42,
   "metadata": {},
   "outputs": [
    {
     "data": {
      "text/html": [
       "<div>\n",
       "<style scoped>\n",
       "    .dataframe tbody tr th:only-of-type {\n",
       "        vertical-align: middle;\n",
       "    }\n",
       "\n",
       "    .dataframe tbody tr th {\n",
       "        vertical-align: top;\n",
       "    }\n",
       "\n",
       "    .dataframe thead th {\n",
       "        text-align: right;\n",
       "    }\n",
       "</style>\n",
       "<table border=\"1\" class=\"dataframe\">\n",
       "  <thead>\n",
       "    <tr style=\"text-align: right;\">\n",
       "      <th></th>\n",
       "      <th>Feature Names</th>\n",
       "      <th>Score</th>\n",
       "    </tr>\n",
       "  </thead>\n",
       "  <tbody>\n",
       "    <tr>\n",
       "      <th>0</th>\n",
       "      <td>lotarea</td>\n",
       "      <td>0.109850</td>\n",
       "    </tr>\n",
       "    <tr>\n",
       "      <th>1</th>\n",
       "      <td>bldgarea</td>\n",
       "      <td>0.087486</td>\n",
       "    </tr>\n",
       "    <tr>\n",
       "      <th>2</th>\n",
       "      <td>comarea</td>\n",
       "      <td>0.027478</td>\n",
       "    </tr>\n",
       "    <tr>\n",
       "      <th>3</th>\n",
       "      <td>resarea</td>\n",
       "      <td>0.056879</td>\n",
       "    </tr>\n",
       "    <tr>\n",
       "      <th>4</th>\n",
       "      <td>officearea</td>\n",
       "      <td>0.015198</td>\n",
       "    </tr>\n",
       "    <tr>\n",
       "      <th>5</th>\n",
       "      <td>retailarea</td>\n",
       "      <td>0.029069</td>\n",
       "    </tr>\n",
       "    <tr>\n",
       "      <th>6</th>\n",
       "      <td>numbldgs</td>\n",
       "      <td>0.013629</td>\n",
       "    </tr>\n",
       "    <tr>\n",
       "      <th>7</th>\n",
       "      <td>numfloors</td>\n",
       "      <td>0.017230</td>\n",
       "    </tr>\n",
       "    <tr>\n",
       "      <th>8</th>\n",
       "      <td>lotdepth</td>\n",
       "      <td>0.089572</td>\n",
       "    </tr>\n",
       "    <tr>\n",
       "      <th>9</th>\n",
       "      <td>bldgdepth</td>\n",
       "      <td>0.060438</td>\n",
       "    </tr>\n",
       "    <tr>\n",
       "      <th>10</th>\n",
       "      <td>builtfar</td>\n",
       "      <td>0.071019</td>\n",
       "    </tr>\n",
       "    <tr>\n",
       "      <th>11</th>\n",
       "      <td>residfar</td>\n",
       "      <td>0.018946</td>\n",
       "    </tr>\n",
       "    <tr>\n",
       "      <th>12</th>\n",
       "      <td>commfar</td>\n",
       "      <td>0.008863</td>\n",
       "    </tr>\n",
       "    <tr>\n",
       "      <th>13</th>\n",
       "      <td>facilfar</td>\n",
       "      <td>0.013741</td>\n",
       "    </tr>\n",
       "    <tr>\n",
       "      <th>14</th>\n",
       "      <td>year</td>\n",
       "      <td>0.049760</td>\n",
       "    </tr>\n",
       "    <tr>\n",
       "      <th>15</th>\n",
       "      <td>status</td>\n",
       "      <td>0.330842</td>\n",
       "    </tr>\n",
       "  </tbody>\n",
       "</table>\n",
       "</div>"
      ],
      "text/plain": [
       "   Feature Names     Score\n",
       "0        lotarea  0.109850\n",
       "1       bldgarea  0.087486\n",
       "2        comarea  0.027478\n",
       "3        resarea  0.056879\n",
       "4     officearea  0.015198\n",
       "5     retailarea  0.029069\n",
       "6       numbldgs  0.013629\n",
       "7      numfloors  0.017230\n",
       "8       lotdepth  0.089572\n",
       "9      bldgdepth  0.060438\n",
       "10      builtfar  0.071019\n",
       "11      residfar  0.018946\n",
       "12       commfar  0.008863\n",
       "13      facilfar  0.013741\n",
       "14          year  0.049760\n",
       "15        status  0.330842"
      ]
     },
     "execution_count": 42,
     "metadata": {},
     "output_type": "execute_result"
    }
   ],
   "source": [
    "featimpt"
   ]
  },
  {
   "cell_type": "code",
   "execution_count": 43,
   "metadata": {},
   "outputs": [
    {
     "data": {
      "text/html": [
       "<div>\n",
       "<style scoped>\n",
       "    .dataframe tbody tr th:only-of-type {\n",
       "        vertical-align: middle;\n",
       "    }\n",
       "\n",
       "    .dataframe tbody tr th {\n",
       "        vertical-align: top;\n",
       "    }\n",
       "\n",
       "    .dataframe thead th {\n",
       "        text-align: right;\n",
       "    }\n",
       "</style>\n",
       "<table border=\"1\" class=\"dataframe\">\n",
       "  <thead>\n",
       "    <tr style=\"text-align: right;\">\n",
       "      <th></th>\n",
       "      <th>Score</th>\n",
       "    </tr>\n",
       "    <tr>\n",
       "      <th>Feature Names</th>\n",
       "      <th></th>\n",
       "    </tr>\n",
       "  </thead>\n",
       "  <tbody>\n",
       "    <tr>\n",
       "      <th>lotarea</th>\n",
       "      <td>0.109850</td>\n",
       "    </tr>\n",
       "    <tr>\n",
       "      <th>bldgarea</th>\n",
       "      <td>0.087486</td>\n",
       "    </tr>\n",
       "    <tr>\n",
       "      <th>comarea</th>\n",
       "      <td>0.027478</td>\n",
       "    </tr>\n",
       "    <tr>\n",
       "      <th>resarea</th>\n",
       "      <td>0.056879</td>\n",
       "    </tr>\n",
       "    <tr>\n",
       "      <th>officearea</th>\n",
       "      <td>0.015198</td>\n",
       "    </tr>\n",
       "    <tr>\n",
       "      <th>retailarea</th>\n",
       "      <td>0.029069</td>\n",
       "    </tr>\n",
       "    <tr>\n",
       "      <th>numbldgs</th>\n",
       "      <td>0.013629</td>\n",
       "    </tr>\n",
       "    <tr>\n",
       "      <th>numfloors</th>\n",
       "      <td>0.017230</td>\n",
       "    </tr>\n",
       "    <tr>\n",
       "      <th>lotdepth</th>\n",
       "      <td>0.089572</td>\n",
       "    </tr>\n",
       "    <tr>\n",
       "      <th>bldgdepth</th>\n",
       "      <td>0.060438</td>\n",
       "    </tr>\n",
       "    <tr>\n",
       "      <th>builtfar</th>\n",
       "      <td>0.071019</td>\n",
       "    </tr>\n",
       "    <tr>\n",
       "      <th>residfar</th>\n",
       "      <td>0.018946</td>\n",
       "    </tr>\n",
       "    <tr>\n",
       "      <th>commfar</th>\n",
       "      <td>0.008863</td>\n",
       "    </tr>\n",
       "    <tr>\n",
       "      <th>facilfar</th>\n",
       "      <td>0.013741</td>\n",
       "    </tr>\n",
       "    <tr>\n",
       "      <th>year</th>\n",
       "      <td>0.049760</td>\n",
       "    </tr>\n",
       "    <tr>\n",
       "      <th>status</th>\n",
       "      <td>0.330842</td>\n",
       "    </tr>\n",
       "  </tbody>\n",
       "</table>\n",
       "</div>"
      ],
      "text/plain": [
       "                  Score\n",
       "Feature Names          \n",
       "lotarea        0.109850\n",
       "bldgarea       0.087486\n",
       "comarea        0.027478\n",
       "resarea        0.056879\n",
       "officearea     0.015198\n",
       "retailarea     0.029069\n",
       "numbldgs       0.013629\n",
       "numfloors      0.017230\n",
       "lotdepth       0.089572\n",
       "bldgdepth      0.060438\n",
       "builtfar       0.071019\n",
       "residfar       0.018946\n",
       "commfar        0.008863\n",
       "facilfar       0.013741\n",
       "year           0.049760\n",
       "status         0.330842"
      ]
     },
     "execution_count": 43,
     "metadata": {},
     "output_type": "execute_result"
    }
   ],
   "source": [
    "featimpt.set_index('Feature Names')"
   ]
  },
  {
   "cell_type": "code",
   "execution_count": 44,
   "metadata": {},
   "outputs": [],
   "source": [
    "df = featimpt.set_index('Feature Names')"
   ]
  },
  {
   "cell_type": "code",
   "execution_count": 45,
   "metadata": {},
   "outputs": [
    {
     "data": {
      "image/png": "[encoded data removed]",
      "text/plain": [
       "<Figure size 576x396 with 1 Axes>"
      ]
     },
     "metadata": {},
     "output_type": "display_data"
    }
   ],
   "source": [
    "df.plot(kind='barh',title=\"Feature Importance\", legend=True)\n",
    "plt.show()"
   ]
  },
  {
   "cell_type": "markdown",
   "metadata": {},
   "source": [
    "### Tips to improve better results\n",
    "- Use more data to train (500000 to 800000 samples)\n",
    "- Perform feature engineering to create new columns\n",
    "- Model tuning using hyperparameter tuning\n",
    "- Use more powerful algorithms like XGBoost"
   ]
  },
  {
   "cell_type": "code",
   "execution_count": null,
   "metadata": {},
   "outputs": [],
   "source": []
  }
 ],
 "metadata": {
  "kernelspec": {
   "display_name": "Python 3",
   "language": "python",
   "name": "python3"
  },
  "language_info": {
   "codemirror_mode": {
    "name": "ipython",
    "version": 3
   },
   "file_extension": ".py",
   "mimetype": "text/x-python",
   "name": "python",
   "nbconvert_exporter": "python",
   "pygments_lexer": "ipython3",
   "version": "3.7.6"
  }
 },
 "nbformat": 4,
 "nbformat_minor": 4
}
