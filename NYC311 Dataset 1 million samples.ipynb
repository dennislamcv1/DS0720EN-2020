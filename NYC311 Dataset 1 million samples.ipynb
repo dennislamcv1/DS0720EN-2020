{
 "cells": [
  {
   "cell_type": "code",
   "execution_count": 1,
   "metadata": {},
   "outputs": [],
   "source": [
    "import numpy as np\n",
    "import pandas as pd\n",
    "import matplotlib.pyplot as plt\n",
    "import seaborn as sns\n",
    "\n",
    "%matplotlib inline\n",
    "sns.set(font_scale=1.25)\n",
    "np.random.seed(5)\n",
    "\n",
    "pd.set_option(\"display.max_rows\",10000)\n",
    "pd.set_option(\"display.max_columns\",100)"
   ]
  },
  {
   "cell_type": "code",
   "execution_count": 2,
   "metadata": {},
   "outputs": [],
   "source": [
    "df = pd.read_csv(\"nyconemil.csv\")"
   ]
  },
  {
   "cell_type": "code",
   "execution_count": 3,
   "metadata": {},
   "outputs": [
    {
     "data": {
      "text/html": [
       "<div>\n",
       "<style scoped>\n",
       "    .dataframe tbody tr th:only-of-type {\n",
       "        vertical-align: middle;\n",
       "    }\n",
       "\n",
       "    .dataframe tbody tr th {\n",
       "        vertical-align: top;\n",
       "    }\n",
       "\n",
       "    .dataframe thead th {\n",
       "        text-align: right;\n",
       "    }\n",
       "</style>\n",
       "<table border=\"1\" class=\"dataframe\">\n",
       "  <thead>\n",
       "    <tr style=\"text-align: right;\">\n",
       "      <th></th>\n",
       "      <th>created_date</th>\n",
       "      <th>unique_key</th>\n",
       "      <th>complaint_type</th>\n",
       "      <th>incident_zip</th>\n",
       "      <th>incident_address</th>\n",
       "      <th>street_name</th>\n",
       "      <th>address_type</th>\n",
       "      <th>city</th>\n",
       "      <th>resolution_description</th>\n",
       "      <th>borough</th>\n",
       "      <th>latitude</th>\n",
       "      <th>longitude</th>\n",
       "      <th>closed_date</th>\n",
       "      <th>location_type</th>\n",
       "      <th>status</th>\n",
       "    </tr>\n",
       "  </thead>\n",
       "  <tbody>\n",
       "    <tr>\n",
       "      <th>0</th>\n",
       "      <td>2020-02-07T13:36:39.000</td>\n",
       "      <td>45567011</td>\n",
       "      <td>HEAT/HOT WATER</td>\n",
       "      <td>10474.0</td>\n",
       "      <td>1202 SPOFFORD AVENUE</td>\n",
       "      <td>SPOFFORD AVENUE</td>\n",
       "      <td>ADDRESS</td>\n",
       "      <td>BRONX</td>\n",
       "      <td>The following complaint conditions are still o...</td>\n",
       "      <td>BRONX</td>\n",
       "      <td>40.813843</td>\n",
       "      <td>-73.890801</td>\n",
       "      <td>NaN</td>\n",
       "      <td>RESIDENTIAL BUILDING</td>\n",
       "      <td>Open</td>\n",
       "    </tr>\n",
       "    <tr>\n",
       "      <th>1</th>\n",
       "      <td>2020-02-07T22:28:04.000</td>\n",
       "      <td>45565104</td>\n",
       "      <td>HEAT/HOT WATER</td>\n",
       "      <td>11235.0</td>\n",
       "      <td>50 SHORE BOULEVARD</td>\n",
       "      <td>SHORE BOULEVARD</td>\n",
       "      <td>ADDRESS</td>\n",
       "      <td>BROOKLYN</td>\n",
       "      <td>The following complaint conditions are still o...</td>\n",
       "      <td>BROOKLYN</td>\n",
       "      <td>40.582266</td>\n",
       "      <td>-73.954005</td>\n",
       "      <td>NaN</td>\n",
       "      <td>RESIDENTIAL BUILDING</td>\n",
       "      <td>Open</td>\n",
       "    </tr>\n",
       "    <tr>\n",
       "      <th>2</th>\n",
       "      <td>2020-02-07T18:09:26.000</td>\n",
       "      <td>45568046</td>\n",
       "      <td>HEAT/HOT WATER</td>\n",
       "      <td>10037.0</td>\n",
       "      <td>621 LENOX AVENUE</td>\n",
       "      <td>LENOX AVENUE</td>\n",
       "      <td>ADDRESS</td>\n",
       "      <td>NEW YORK</td>\n",
       "      <td>The complaint you filed is a duplicate of a co...</td>\n",
       "      <td>MANHATTAN</td>\n",
       "      <td>40.817995</td>\n",
       "      <td>-73.938032</td>\n",
       "      <td>NaN</td>\n",
       "      <td>RESIDENTIAL BUILDING</td>\n",
       "      <td>Open</td>\n",
       "    </tr>\n",
       "    <tr>\n",
       "      <th>3</th>\n",
       "      <td>2020-02-07T19:32:17.000</td>\n",
       "      <td>45569863</td>\n",
       "      <td>APPLIANCE</td>\n",
       "      <td>10034.0</td>\n",
       "      <td>77 SEAMAN AVENUE</td>\n",
       "      <td>SEAMAN AVENUE</td>\n",
       "      <td>ADDRESS</td>\n",
       "      <td>NEW YORK</td>\n",
       "      <td>The following complaint conditions are still o...</td>\n",
       "      <td>MANHATTAN</td>\n",
       "      <td>40.868043</td>\n",
       "      <td>-73.925151</td>\n",
       "      <td>NaN</td>\n",
       "      <td>RESIDENTIAL BUILDING</td>\n",
       "      <td>Open</td>\n",
       "    </tr>\n",
       "    <tr>\n",
       "      <th>4</th>\n",
       "      <td>2020-02-07T15:54:48.000</td>\n",
       "      <td>45570034</td>\n",
       "      <td>SAFETY</td>\n",
       "      <td>11207.0</td>\n",
       "      <td>184 SCHAEFER STREET</td>\n",
       "      <td>SCHAEFER STREET</td>\n",
       "      <td>ADDRESS</td>\n",
       "      <td>BROOKLYN</td>\n",
       "      <td>The following complaint conditions are still o...</td>\n",
       "      <td>BROOKLYN</td>\n",
       "      <td>40.689579</td>\n",
       "      <td>-73.907906</td>\n",
       "      <td>NaN</td>\n",
       "      <td>RESIDENTIAL BUILDING</td>\n",
       "      <td>Open</td>\n",
       "    </tr>\n",
       "  </tbody>\n",
       "</table>\n",
       "</div>"
      ],
      "text/plain": [
       "              created_date  unique_key  complaint_type  incident_zip  \\\n",
       "0  2020-02-07T13:36:39.000    45567011  HEAT/HOT WATER       10474.0   \n",
       "1  2020-02-07T22:28:04.000    45565104  HEAT/HOT WATER       11235.0   \n",
       "2  2020-02-07T18:09:26.000    45568046  HEAT/HOT WATER       10037.0   \n",
       "3  2020-02-07T19:32:17.000    45569863       APPLIANCE       10034.0   \n",
       "4  2020-02-07T15:54:48.000    45570034          SAFETY       11207.0   \n",
       "\n",
       "       incident_address      street_name address_type      city  \\\n",
       "0  1202 SPOFFORD AVENUE  SPOFFORD AVENUE      ADDRESS     BRONX   \n",
       "1    50 SHORE BOULEVARD  SHORE BOULEVARD      ADDRESS  BROOKLYN   \n",
       "2      621 LENOX AVENUE     LENOX AVENUE      ADDRESS  NEW YORK   \n",
       "3      77 SEAMAN AVENUE    SEAMAN AVENUE      ADDRESS  NEW YORK   \n",
       "4   184 SCHAEFER STREET  SCHAEFER STREET      ADDRESS  BROOKLYN   \n",
       "\n",
       "                              resolution_description    borough   latitude  \\\n",
       "0  The following complaint conditions are still o...      BRONX  40.813843   \n",
       "1  The following complaint conditions are still o...   BROOKLYN  40.582266   \n",
       "2  The complaint you filed is a duplicate of a co...  MANHATTAN  40.817995   \n",
       "3  The following complaint conditions are still o...  MANHATTAN  40.868043   \n",
       "4  The following complaint conditions are still o...   BROOKLYN  40.689579   \n",
       "\n",
       "   longitude closed_date         location_type status  \n",
       "0 -73.890801         NaN  RESIDENTIAL BUILDING   Open  \n",
       "1 -73.954005         NaN  RESIDENTIAL BUILDING   Open  \n",
       "2 -73.938032         NaN  RESIDENTIAL BUILDING   Open  \n",
       "3 -73.925151         NaN  RESIDENTIAL BUILDING   Open  \n",
       "4 -73.907906         NaN  RESIDENTIAL BUILDING   Open  "
      ]
     },
     "execution_count": 3,
     "metadata": {},
     "output_type": "execute_result"
    }
   ],
   "source": [
    "df.head()"
   ]
  },
  {
   "cell_type": "code",
   "execution_count": 4,
   "metadata": {},
   "outputs": [
    {
     "name": "stdout",
     "output_type": "stream",
     "text": [
      "<class 'pandas.core.frame.DataFrame'>\n",
      "RangeIndex: 1000000 entries, 0 to 999999\n",
      "Data columns (total 15 columns):\n",
      " #   Column                  Non-Null Count    Dtype  \n",
      "---  ------                  --------------    -----  \n",
      " 0   created_date            1000000 non-null  object \n",
      " 1   unique_key              1000000 non-null  int64  \n",
      " 2   complaint_type          1000000 non-null  object \n",
      " 3   incident_zip            919319 non-null   float64\n",
      " 4   incident_address        947169 non-null   object \n",
      " 5   street_name             947169 non-null   object \n",
      " 6   address_type            922295 non-null   object \n",
      " 7   city                    919719 non-null   object \n",
      " 8   resolution_description  999577 non-null   object \n",
      " 9   borough                 1000000 non-null  object \n",
      " 10  latitude                919322 non-null   float64\n",
      " 11  longitude               919322 non-null   float64\n",
      " 12  closed_date             984457 non-null   object \n",
      " 13  location_type           947170 non-null   object \n",
      " 14  status                  1000000 non-null  object \n",
      "dtypes: float64(3), int64(1), object(11)\n",
      "memory usage: 114.4+ MB\n"
     ]
    }
   ],
   "source": [
    "df.info()"
   ]
  },
  {
   "cell_type": "code",
   "execution_count": 5,
   "metadata": {},
   "outputs": [
    {
     "data": {
      "text/plain": [
       "(1000000, 15)"
      ]
     },
     "execution_count": 5,
     "metadata": {},
     "output_type": "execute_result"
    }
   ],
   "source": [
    "df.shape"
   ]
  },
  {
   "cell_type": "code",
   "execution_count": 6,
   "metadata": {},
   "outputs": [
    {
     "data": {
      "text/plain": [
       "HEATING                   263619\n",
       "GENERAL CONSTRUCTION      139951\n",
       "PLUMBING                  132606\n",
       "HEAT/HOT WATER            115444\n",
       "PAINT - PLASTER           102381\n",
       "NONCONST                   75343\n",
       "HPD Literature Request     52830\n",
       "ELECTRIC                   47286\n",
       "APPLIANCE                  19876\n",
       "UNSANITARY CONDITION       17778\n",
       "WATER LEAK                  7386\n",
       "PAINT/PLASTER               7081\n",
       "DOOR/WINDOW                 6484\n",
       "GENERAL                     5398\n",
       "FLOORING/STAIRS             2723\n",
       "SAFETY                      1838\n",
       "CONSTRUCTION                1448\n",
       "ELEVATOR                     341\n",
       "OUTSIDE BUILDING             143\n",
       "Unsanitary Condition          30\n",
       "General                       10\n",
       "Safety                         2\n",
       "AGENCY                         1\n",
       "Electric                       1\n",
       "Name: complaint_type, dtype: int64"
      ]
     },
     "execution_count": 6,
     "metadata": {},
     "output_type": "execute_result"
    }
   ],
   "source": [
    "df['complaint_type'].value_counts()"
   ]
  },
  {
   "cell_type": "code",
   "execution_count": 7,
   "metadata": {},
   "outputs": [
    {
     "data": {
      "text/plain": [
       "Unspecified      797833\n",
       "BRONX             65828\n",
       "BROOKLYN          60858\n",
       "MANHATTAN         44815\n",
       "QUEENS            27937\n",
       "STATEN ISLAND      2729\n",
       "Name: borough, dtype: int64"
      ]
     },
     "execution_count": 7,
     "metadata": {},
     "output_type": "execute_result"
    }
   ],
   "source": [
    "df['borough'].value_counts()"
   ]
  },
  {
   "cell_type": "code",
   "execution_count": 8,
   "metadata": {},
   "outputs": [
    {
     "data": {
      "text/plain": [
       "BROOKLYN               320817\n",
       "BRONX                  284835\n",
       "NEW YORK               179880\n",
       "STATEN ISLAND           15526\n",
       "JAMAICA                 14119\n",
       "FLUSHING                 7306\n",
       "ASTORIA                  7152\n",
       "RIDGEWOOD                6441\n",
       "FAR ROCKAWAY             5780\n",
       "ELMHURST                 4415\n",
       "CORONA                   3964\n",
       "WOODSIDE                 3859\n",
       "JACKSON HEIGHTS          3606\n",
       "FOREST HILLS             2780\n",
       "Jamaica                  2677\n",
       "SOUTH RICHMOND HILL      2412\n",
       "Elmhurst                 2291\n",
       "SUNNYSIDE                2231\n",
       "Flushing                 2228\n",
       "REGO PARK                2121\n",
       "QUEENS VILLAGE           2113\n",
       "RICHMOND HILL            2082\n",
       "EAST ELMHURST            2075\n",
       "HOLLIS                   2059\n",
       "Astoria                  1982\n",
       "WOODHAVEN                1882\n",
       "OZONE PARK               1823\n",
       "SAINT ALBANS             1763\n",
       "SPRINGFIELD GARDENS      1739\n",
       "ARVERNE                  1723\n",
       "SOUTH OZONE PARK         1675\n",
       "Ridgewood                1437\n",
       "Woodside                 1436\n",
       "Far Rockaway             1400\n",
       "KEW GARDENS              1370\n",
       "LONG ISLAND CITY         1107\n",
       "ROCKAWAY PARK             991\n",
       "ROSEDALE                  968\n",
       "Jackson Heights           900\n",
       "MASPETH                   889\n",
       "Corona                    778\n",
       "Forest Hills              688\n",
       "Sunnyside                 664\n",
       "BAYSIDE                   621\n",
       "OAKLAND GARDENS           601\n",
       "Queens Village            577\n",
       "Ozone Park                529\n",
       "Richmond Hill             526\n",
       "MIDDLE VILLAGE            522\n",
       "Arverne                   501\n",
       "FRESH MEADOWS             477\n",
       "COLLEGE POINT             447\n",
       "Hollis                    444\n",
       "Kew Gardens               440\n",
       "Rego Park                 416\n",
       "QUEENS                    383\n",
       "Long Island City          381\n",
       "CAMBRIA HEIGHTS           356\n",
       "HOWARD BEACH              337\n",
       "East Elmhurst             323\n",
       "South Richmond Hill       321\n",
       "Woodhaven                 315\n",
       "WHITESTONE                307\n",
       "LITTLE NECK               304\n",
       "Saint Albans              303\n",
       "South Ozone Park          273\n",
       "Rockaway Park             246\n",
       "Fresh Meadows             216\n",
       "Springfield Gardens       213\n",
       "Rosedale                  148\n",
       "Maspeth                   136\n",
       "BELLEROSE                 129\n",
       "Bayside                   121\n",
       "College Point             117\n",
       "Oakland Gardens           111\n",
       "GLEN OAKS                 102\n",
       "Howard Beach               85\n",
       "Middle Village             80\n",
       "Whitestone                 69\n",
       "Cambria Heights            68\n",
       "Bellerose                  53\n",
       "BREEZY POINT               40\n",
       "Little Neck                37\n",
       "FLORAL PARK                28\n",
       "Glen Oaks                  11\n",
       "Floral Park                 8\n",
       "New Hyde Park               7\n",
       "NEW HYDE PARK               4\n",
       "Breezy Point                2\n",
       "Name: city, dtype: int64"
      ]
     },
     "execution_count": 8,
     "metadata": {},
     "output_type": "execute_result"
    }
   ],
   "source": [
    "df['city'].value_counts()"
   ]
  },
  {
   "cell_type": "markdown",
   "metadata": {},
   "source": [
    "### There are 2 approaches using Classification ML Model"
   ]
  },
  {
   "cell_type": "markdown",
   "metadata": {},
   "source": [
    "One is use Heat/Hot Water as '1' and the rest as '0'<br>\n",
    "Two is using Multiclassification Model to predict which complaint type"
   ]
  },
  {
   "cell_type": "markdown",
   "metadata": {},
   "source": [
    "### Use Bronx as main target area"
   ]
  },
  {
   "cell_type": "code",
   "execution_count": 9,
   "metadata": {},
   "outputs": [],
   "source": [
    "df2 = df[df['borough'] == 'BRONX']"
   ]
  },
  {
   "cell_type": "code",
   "execution_count": 10,
   "metadata": {},
   "outputs": [
    {
     "data": {
      "text/html": [
       "<div>\n",
       "<style scoped>\n",
       "    .dataframe tbody tr th:only-of-type {\n",
       "        vertical-align: middle;\n",
       "    }\n",
       "\n",
       "    .dataframe tbody tr th {\n",
       "        vertical-align: top;\n",
       "    }\n",
       "\n",
       "    .dataframe thead th {\n",
       "        text-align: right;\n",
       "    }\n",
       "</style>\n",
       "<table border=\"1\" class=\"dataframe\">\n",
       "  <thead>\n",
       "    <tr style=\"text-align: right;\">\n",
       "      <th></th>\n",
       "      <th>created_date</th>\n",
       "      <th>unique_key</th>\n",
       "      <th>complaint_type</th>\n",
       "      <th>incident_zip</th>\n",
       "      <th>incident_address</th>\n",
       "      <th>street_name</th>\n",
       "      <th>address_type</th>\n",
       "      <th>city</th>\n",
       "      <th>resolution_description</th>\n",
       "      <th>borough</th>\n",
       "      <th>latitude</th>\n",
       "      <th>longitude</th>\n",
       "      <th>closed_date</th>\n",
       "      <th>location_type</th>\n",
       "      <th>status</th>\n",
       "    </tr>\n",
       "  </thead>\n",
       "  <tbody>\n",
       "    <tr>\n",
       "      <th>0</th>\n",
       "      <td>2020-02-07T13:36:39.000</td>\n",
       "      <td>45567011</td>\n",
       "      <td>HEAT/HOT WATER</td>\n",
       "      <td>10474.0</td>\n",
       "      <td>1202 SPOFFORD AVENUE</td>\n",
       "      <td>SPOFFORD AVENUE</td>\n",
       "      <td>ADDRESS</td>\n",
       "      <td>BRONX</td>\n",
       "      <td>The following complaint conditions are still o...</td>\n",
       "      <td>BRONX</td>\n",
       "      <td>40.813843</td>\n",
       "      <td>-73.890801</td>\n",
       "      <td>NaN</td>\n",
       "      <td>RESIDENTIAL BUILDING</td>\n",
       "      <td>Open</td>\n",
       "    </tr>\n",
       "    <tr>\n",
       "      <th>6</th>\n",
       "      <td>2020-02-07T06:01:02.000</td>\n",
       "      <td>45569919</td>\n",
       "      <td>GENERAL</td>\n",
       "      <td>10461.0</td>\n",
       "      <td>3555 BRUCKNER BOULEVARD</td>\n",
       "      <td>BRUCKNER BOULEVARD</td>\n",
       "      <td>ADDRESS</td>\n",
       "      <td>BRONX</td>\n",
       "      <td>The following complaint conditions are still o...</td>\n",
       "      <td>BRONX</td>\n",
       "      <td>40.847809</td>\n",
       "      <td>-73.827481</td>\n",
       "      <td>NaN</td>\n",
       "      <td>RESIDENTIAL BUILDING</td>\n",
       "      <td>Open</td>\n",
       "    </tr>\n",
       "    <tr>\n",
       "      <th>8</th>\n",
       "      <td>2020-02-07T13:06:38.000</td>\n",
       "      <td>45567090</td>\n",
       "      <td>HEAT/HOT WATER</td>\n",
       "      <td>10460.0</td>\n",
       "      <td>968 BRONX PARK SOUTH</td>\n",
       "      <td>BRONX PARK SOUTH</td>\n",
       "      <td>ADDRESS</td>\n",
       "      <td>BRONX</td>\n",
       "      <td>The following complaint conditions are still o...</td>\n",
       "      <td>BRONX</td>\n",
       "      <td>40.845066</td>\n",
       "      <td>-73.878848</td>\n",
       "      <td>NaN</td>\n",
       "      <td>RESIDENTIAL BUILDING</td>\n",
       "      <td>Open</td>\n",
       "    </tr>\n",
       "    <tr>\n",
       "      <th>10</th>\n",
       "      <td>2020-02-07T09:37:49.000</td>\n",
       "      <td>45567052</td>\n",
       "      <td>HEAT/HOT WATER</td>\n",
       "      <td>10452.0</td>\n",
       "      <td>960 ANDERSON AVENUE</td>\n",
       "      <td>ANDERSON AVENUE</td>\n",
       "      <td>ADDRESS</td>\n",
       "      <td>BRONX</td>\n",
       "      <td>The complaint you filed is a duplicate of a co...</td>\n",
       "      <td>BRONX</td>\n",
       "      <td>40.831403</td>\n",
       "      <td>-73.927819</td>\n",
       "      <td>NaN</td>\n",
       "      <td>RESIDENTIAL BUILDING</td>\n",
       "      <td>Open</td>\n",
       "    </tr>\n",
       "    <tr>\n",
       "      <th>19</th>\n",
       "      <td>2020-02-07T19:47:58.000</td>\n",
       "      <td>45566105</td>\n",
       "      <td>HEAT/HOT WATER</td>\n",
       "      <td>10458.0</td>\n",
       "      <td>2746 DECATUR AVENUE</td>\n",
       "      <td>DECATUR AVENUE</td>\n",
       "      <td>ADDRESS</td>\n",
       "      <td>BRONX</td>\n",
       "      <td>The following complaint conditions are still o...</td>\n",
       "      <td>BRONX</td>\n",
       "      <td>40.865685</td>\n",
       "      <td>-73.887842</td>\n",
       "      <td>NaN</td>\n",
       "      <td>RESIDENTIAL BUILDING</td>\n",
       "      <td>Open</td>\n",
       "    </tr>\n",
       "    <tr>\n",
       "      <th>...</th>\n",
       "      <td>...</td>\n",
       "      <td>...</td>\n",
       "      <td>...</td>\n",
       "      <td>...</td>\n",
       "      <td>...</td>\n",
       "      <td>...</td>\n",
       "      <td>...</td>\n",
       "      <td>...</td>\n",
       "      <td>...</td>\n",
       "      <td>...</td>\n",
       "      <td>...</td>\n",
       "      <td>...</td>\n",
       "      <td>...</td>\n",
       "      <td>...</td>\n",
       "      <td>...</td>\n",
       "    </tr>\n",
       "    <tr>\n",
       "      <th>925582</th>\n",
       "      <td>2010-12-31T00:00:00.000</td>\n",
       "      <td>19505705</td>\n",
       "      <td>GENERAL CONSTRUCTION</td>\n",
       "      <td>10463.0</td>\n",
       "      <td>170 WEST KINGSBRIDGE ROAD</td>\n",
       "      <td>WEST KINGSBRIDGE ROAD</td>\n",
       "      <td>ADDRESS</td>\n",
       "      <td>BRONX</td>\n",
       "      <td>The following complaint conditions are still o...</td>\n",
       "      <td>BRONX</td>\n",
       "      <td>40.870973</td>\n",
       "      <td>-73.904487</td>\n",
       "      <td>NaN</td>\n",
       "      <td>RESIDENTIAL BUILDING</td>\n",
       "      <td>Open</td>\n",
       "    </tr>\n",
       "    <tr>\n",
       "      <th>925588</th>\n",
       "      <td>2010-12-31T00:00:00.000</td>\n",
       "      <td>19505711</td>\n",
       "      <td>PLUMBING</td>\n",
       "      <td>10459.0</td>\n",
       "      <td>916 KELLY STREET</td>\n",
       "      <td>KELLY STREET</td>\n",
       "      <td>ADDRESS</td>\n",
       "      <td>BRONX</td>\n",
       "      <td>The following complaint conditions are still o...</td>\n",
       "      <td>BRONX</td>\n",
       "      <td>40.820134</td>\n",
       "      <td>-73.896066</td>\n",
       "      <td>NaN</td>\n",
       "      <td>RESIDENTIAL BUILDING</td>\n",
       "      <td>Open</td>\n",
       "    </tr>\n",
       "    <tr>\n",
       "      <th>939851</th>\n",
       "      <td>2011-01-07T00:00:00.000</td>\n",
       "      <td>19551788</td>\n",
       "      <td>HEATING</td>\n",
       "      <td>10458.0</td>\n",
       "      <td>2804 BAINBRIDGE AVENUE</td>\n",
       "      <td>BAINBRIDGE AVENUE</td>\n",
       "      <td>ADDRESS</td>\n",
       "      <td>BRONX</td>\n",
       "      <td>The following complaint conditions are still o...</td>\n",
       "      <td>BRONX</td>\n",
       "      <td>40.868233</td>\n",
       "      <td>-73.888680</td>\n",
       "      <td>NaN</td>\n",
       "      <td>RESIDENTIAL BUILDING</td>\n",
       "      <td>Open</td>\n",
       "    </tr>\n",
       "    <tr>\n",
       "      <th>954140</th>\n",
       "      <td>2011-01-13T00:00:00.000</td>\n",
       "      <td>19587224</td>\n",
       "      <td>HEATING</td>\n",
       "      <td>10453.0</td>\n",
       "      <td>2075 MORRIS AVENUE</td>\n",
       "      <td>MORRIS AVENUE</td>\n",
       "      <td>ADDRESS</td>\n",
       "      <td>BRONX</td>\n",
       "      <td>More than one complaint was received for this ...</td>\n",
       "      <td>BRONX</td>\n",
       "      <td>40.853797</td>\n",
       "      <td>-73.905029</td>\n",
       "      <td>NaN</td>\n",
       "      <td>RESIDENTIAL BUILDING</td>\n",
       "      <td>Open</td>\n",
       "    </tr>\n",
       "    <tr>\n",
       "      <th>997805</th>\n",
       "      <td>2011-01-27T00:00:00.000</td>\n",
       "      <td>19702501</td>\n",
       "      <td>HEATING</td>\n",
       "      <td>10472.0</td>\n",
       "      <td>1241 WARD AVENUE</td>\n",
       "      <td>WARD AVENUE</td>\n",
       "      <td>ADDRESS</td>\n",
       "      <td>BRONX</td>\n",
       "      <td>The following complaint conditions are still o...</td>\n",
       "      <td>BRONX</td>\n",
       "      <td>40.829895</td>\n",
       "      <td>-73.877582</td>\n",
       "      <td>NaN</td>\n",
       "      <td>RESIDENTIAL BUILDING</td>\n",
       "      <td>Open</td>\n",
       "    </tr>\n",
       "  </tbody>\n",
       "</table>\n",
       "<p>65828 rows × 15 columns</p>\n",
       "</div>"
      ],
      "text/plain": [
       "                   created_date  unique_key        complaint_type  \\\n",
       "0       2020-02-07T13:36:39.000    45567011        HEAT/HOT WATER   \n",
       "6       2020-02-07T06:01:02.000    45569919               GENERAL   \n",
       "8       2020-02-07T13:06:38.000    45567090        HEAT/HOT WATER   \n",
       "10      2020-02-07T09:37:49.000    45567052        HEAT/HOT WATER   \n",
       "19      2020-02-07T19:47:58.000    45566105        HEAT/HOT WATER   \n",
       "...                         ...         ...                   ...   \n",
       "925582  2010-12-31T00:00:00.000    19505705  GENERAL CONSTRUCTION   \n",
       "925588  2010-12-31T00:00:00.000    19505711              PLUMBING   \n",
       "939851  2011-01-07T00:00:00.000    19551788               HEATING   \n",
       "954140  2011-01-13T00:00:00.000    19587224               HEATING   \n",
       "997805  2011-01-27T00:00:00.000    19702501               HEATING   \n",
       "\n",
       "        incident_zip           incident_address            street_name  \\\n",
       "0            10474.0       1202 SPOFFORD AVENUE        SPOFFORD AVENUE   \n",
       "6            10461.0    3555 BRUCKNER BOULEVARD     BRUCKNER BOULEVARD   \n",
       "8            10460.0       968 BRONX PARK SOUTH       BRONX PARK SOUTH   \n",
       "10           10452.0        960 ANDERSON AVENUE        ANDERSON AVENUE   \n",
       "19           10458.0        2746 DECATUR AVENUE         DECATUR AVENUE   \n",
       "...              ...                        ...                    ...   \n",
       "925582       10463.0  170 WEST KINGSBRIDGE ROAD  WEST KINGSBRIDGE ROAD   \n",
       "925588       10459.0           916 KELLY STREET           KELLY STREET   \n",
       "939851       10458.0     2804 BAINBRIDGE AVENUE      BAINBRIDGE AVENUE   \n",
       "954140       10453.0         2075 MORRIS AVENUE          MORRIS AVENUE   \n",
       "997805       10472.0           1241 WARD AVENUE            WARD AVENUE   \n",
       "\n",
       "       address_type   city                             resolution_description  \\\n",
       "0           ADDRESS  BRONX  The following complaint conditions are still o...   \n",
       "6           ADDRESS  BRONX  The following complaint conditions are still o...   \n",
       "8           ADDRESS  BRONX  The following complaint conditions are still o...   \n",
       "10          ADDRESS  BRONX  The complaint you filed is a duplicate of a co...   \n",
       "19          ADDRESS  BRONX  The following complaint conditions are still o...   \n",
       "...             ...    ...                                                ...   \n",
       "925582      ADDRESS  BRONX  The following complaint conditions are still o...   \n",
       "925588      ADDRESS  BRONX  The following complaint conditions are still o...   \n",
       "939851      ADDRESS  BRONX  The following complaint conditions are still o...   \n",
       "954140      ADDRESS  BRONX  More than one complaint was received for this ...   \n",
       "997805      ADDRESS  BRONX  The following complaint conditions are still o...   \n",
       "\n",
       "       borough   latitude  longitude closed_date         location_type status  \n",
       "0        BRONX  40.813843 -73.890801         NaN  RESIDENTIAL BUILDING   Open  \n",
       "6        BRONX  40.847809 -73.827481         NaN  RESIDENTIAL BUILDING   Open  \n",
       "8        BRONX  40.845066 -73.878848         NaN  RESIDENTIAL BUILDING   Open  \n",
       "10       BRONX  40.831403 -73.927819         NaN  RESIDENTIAL BUILDING   Open  \n",
       "19       BRONX  40.865685 -73.887842         NaN  RESIDENTIAL BUILDING   Open  \n",
       "...        ...        ...        ...         ...                   ...    ...  \n",
       "925582   BRONX  40.870973 -73.904487         NaN  RESIDENTIAL BUILDING   Open  \n",
       "925588   BRONX  40.820134 -73.896066         NaN  RESIDENTIAL BUILDING   Open  \n",
       "939851   BRONX  40.868233 -73.888680         NaN  RESIDENTIAL BUILDING   Open  \n",
       "954140   BRONX  40.853797 -73.905029         NaN  RESIDENTIAL BUILDING   Open  \n",
       "997805   BRONX  40.829895 -73.877582         NaN  RESIDENTIAL BUILDING   Open  \n",
       "\n",
       "[65828 rows x 15 columns]"
      ]
     },
     "execution_count": 10,
     "metadata": {},
     "output_type": "execute_result"
    }
   ],
   "source": [
    "df2"
   ]
  },
  {
   "cell_type": "code",
   "execution_count": 11,
   "metadata": {},
   "outputs": [
    {
     "data": {
      "text/plain": [
       "(65828, 15)"
      ]
     },
     "execution_count": 11,
     "metadata": {},
     "output_type": "execute_result"
    }
   ],
   "source": [
    "df2.shape"
   ]
  },
  {
   "cell_type": "code",
   "execution_count": 12,
   "metadata": {},
   "outputs": [
    {
     "data": {
      "text/plain": [
       "HEAT/HOT WATER          38126\n",
       "UNSANITARY CONDITION     5498\n",
       "HEATING                  4328\n",
       "PLUMBING                 3583\n",
       "PAINT/PLASTER            2535\n",
       "WATER LEAK               2471\n",
       "DOOR/WINDOW              2017\n",
       "GENERAL                  1600\n",
       "ELECTRIC                 1571\n",
       "APPLIANCE                1349\n",
       "FLOORING/STAIRS           919\n",
       "GENERAL CONSTRUCTION      559\n",
       "SAFETY                    491\n",
       "PAINT - PLASTER           430\n",
       "NONCONST                  191\n",
       "ELEVATOR                  104\n",
       "OUTSIDE BUILDING           33\n",
       "CONSTRUCTION               14\n",
       "Unsanitary Condition        6\n",
       "General                     3\n",
       "Name: complaint_type, dtype: int64"
      ]
     },
     "execution_count": 12,
     "metadata": {},
     "output_type": "execute_result"
    }
   ],
   "source": [
    "df2['complaint_type'].value_counts()"
   ]
  },
  {
   "cell_type": "code",
   "execution_count": 13,
   "metadata": {},
   "outputs": [
    {
     "data": {
      "text/plain": [
       "created_date                 0\n",
       "unique_key                   0\n",
       "complaint_type               0\n",
       "incident_zip              8119\n",
       "incident_address             1\n",
       "street_name                  1\n",
       "address_type              7703\n",
       "city                      8117\n",
       "resolution_description     112\n",
       "borough                      0\n",
       "latitude                  8119\n",
       "longitude                 8119\n",
       "closed_date               4172\n",
       "location_type                0\n",
       "status                       0\n",
       "dtype: int64"
      ]
     },
     "execution_count": 13,
     "metadata": {},
     "output_type": "execute_result"
    }
   ],
   "source": [
    "df2.isnull().sum()"
   ]
  },
  {
   "cell_type": "code",
   "execution_count": 14,
   "metadata": {},
   "outputs": [],
   "source": [
    "#Drop unwanted features\n",
    "df2 = df2.drop(['created_date','unique_key','incident_zip','incident_address','street_name','address_type','city','resolution_description','latitude','longitude','closed_date','location_type'],axis=1)"
   ]
  },
  {
   "cell_type": "code",
   "execution_count": 15,
   "metadata": {},
   "outputs": [
    {
     "data": {
      "text/html": [
       "<div>\n",
       "<style scoped>\n",
       "    .dataframe tbody tr th:only-of-type {\n",
       "        vertical-align: middle;\n",
       "    }\n",
       "\n",
       "    .dataframe tbody tr th {\n",
       "        vertical-align: top;\n",
       "    }\n",
       "\n",
       "    .dataframe thead th {\n",
       "        text-align: right;\n",
       "    }\n",
       "</style>\n",
       "<table border=\"1\" class=\"dataframe\">\n",
       "  <thead>\n",
       "    <tr style=\"text-align: right;\">\n",
       "      <th></th>\n",
       "      <th>complaint_type</th>\n",
       "      <th>borough</th>\n",
       "      <th>status</th>\n",
       "    </tr>\n",
       "  </thead>\n",
       "  <tbody>\n",
       "    <tr>\n",
       "      <th>0</th>\n",
       "      <td>HEAT/HOT WATER</td>\n",
       "      <td>BRONX</td>\n",
       "      <td>Open</td>\n",
       "    </tr>\n",
       "    <tr>\n",
       "      <th>6</th>\n",
       "      <td>GENERAL</td>\n",
       "      <td>BRONX</td>\n",
       "      <td>Open</td>\n",
       "    </tr>\n",
       "    <tr>\n",
       "      <th>8</th>\n",
       "      <td>HEAT/HOT WATER</td>\n",
       "      <td>BRONX</td>\n",
       "      <td>Open</td>\n",
       "    </tr>\n",
       "    <tr>\n",
       "      <th>10</th>\n",
       "      <td>HEAT/HOT WATER</td>\n",
       "      <td>BRONX</td>\n",
       "      <td>Open</td>\n",
       "    </tr>\n",
       "    <tr>\n",
       "      <th>19</th>\n",
       "      <td>HEAT/HOT WATER</td>\n",
       "      <td>BRONX</td>\n",
       "      <td>Open</td>\n",
       "    </tr>\n",
       "  </tbody>\n",
       "</table>\n",
       "</div>"
      ],
      "text/plain": [
       "    complaint_type borough status\n",
       "0   HEAT/HOT WATER   BRONX   Open\n",
       "6          GENERAL   BRONX   Open\n",
       "8   HEAT/HOT WATER   BRONX   Open\n",
       "10  HEAT/HOT WATER   BRONX   Open\n",
       "19  HEAT/HOT WATER   BRONX   Open"
      ]
     },
     "execution_count": 15,
     "metadata": {},
     "output_type": "execute_result"
    }
   ],
   "source": [
    "df2.head()"
   ]
  },
  {
   "cell_type": "code",
   "execution_count": 16,
   "metadata": {},
   "outputs": [
    {
     "data": {
      "text/plain": [
       "complaint_type    0\n",
       "borough           0\n",
       "status            0\n",
       "dtype: int64"
      ]
     },
     "execution_count": 16,
     "metadata": {},
     "output_type": "execute_result"
    }
   ],
   "source": [
    "df2.isnull().sum()"
   ]
  },
  {
   "cell_type": "code",
   "execution_count": 17,
   "metadata": {},
   "outputs": [
    {
     "data": {
      "text/plain": [
       "(65828, 3)"
      ]
     },
     "execution_count": 17,
     "metadata": {},
     "output_type": "execute_result"
    }
   ],
   "source": [
    "df2.shape"
   ]
  },
  {
   "cell_type": "markdown",
   "metadata": {},
   "source": [
    "### Using Approach 1"
   ]
  },
  {
   "cell_type": "code",
   "execution_count": null,
   "metadata": {},
   "outputs": [],
   "source": [
    "# df3 = df2.replace({'HEAT/HOT WATER':1,'UNSANITARY CONDITION':0,'PLUMBING':0,'PAINT/PLASTER':0,\n",
    "#              'WATER LEAK':0,'DOOR/WINDOW':0,'GENERAL':0,'ELECTRIC':0,'APPLIANCE':0,\n",
    "#              'FLOORING/STAIRS':0,'SAFETY':0,'ELEVATOR':0,'OUTSIDE BUILDING':0,})"
   ]
  },
  {
   "cell_type": "code",
   "execution_count": null,
   "metadata": {},
   "outputs": [],
   "source": [
    "# df3['complaint_type'].value_counts()"
   ]
  },
  {
   "cell_type": "code",
   "execution_count": null,
   "metadata": {},
   "outputs": [],
   "source": [
    "# df3"
   ]
  },
  {
   "cell_type": "code",
   "execution_count": null,
   "metadata": {},
   "outputs": [],
   "source": [
    "# df3.isnull().sum()"
   ]
  },
  {
   "cell_type": "code",
   "execution_count": null,
   "metadata": {},
   "outputs": [],
   "source": [
    "#Save to csv\n",
    "#df3.to_csv(\"nycbronx1.csv\",index=False)"
   ]
  },
  {
   "cell_type": "markdown",
   "metadata": {},
   "source": [
    "### Using Approach 2"
   ]
  },
  {
   "cell_type": "code",
   "execution_count": 19,
   "metadata": {},
   "outputs": [
    {
     "data": {
      "text/plain": [
       "complaint_type    0\n",
       "borough           0\n",
       "status            0\n",
       "dtype: int64"
      ]
     },
     "execution_count": 19,
     "metadata": {},
     "output_type": "execute_result"
    }
   ],
   "source": [
    "df2.isnull().sum()"
   ]
  },
  {
   "cell_type": "code",
   "execution_count": 20,
   "metadata": {},
   "outputs": [],
   "source": [
    "#Save to csv\n",
    "#df2.to_csv(\"nycbronxonemil.csv\",index=False)"
   ]
  },
  {
   "cell_type": "code",
   "execution_count": null,
   "metadata": {},
   "outputs": [],
   "source": []
  }
 ],
 "metadata": {
  "kernelspec": {
   "display_name": "Python 3",
   "language": "python",
   "name": "python3"
  },
  "language_info": {
   "codemirror_mode": {
    "name": "ipython",
    "version": 3
   },
   "file_extension": ".py",
   "mimetype": "text/x-python",
   "name": "python",
   "nbconvert_exporter": "python",
   "pygments_lexer": "ipython3",
   "version": "3.7.6"
  }
 },
 "nbformat": 4,
 "nbformat_minor": 4
}
